{
 "cells": [
  {
   "cell_type": "code",
   "execution_count": 85,
   "metadata": {},
   "outputs": [],
   "source": [
    "import cv2\n",
    "from ipywidgets import interact, interactive, fixed, interact_manual\n",
    "import ipywidgets as widgets\n",
    "from matplotlib import pyplot as plt\n",
    "import pandas as pd"
   ]
  },
  {
   "cell_type": "code",
   "execution_count": 136,
   "metadata": {},
   "outputs": [
    {
     "name": "stdout",
     "output_type": "stream",
     "text": [
      "Frames per second :  30 FPS\n",
      "Frame count :  4066.0\n",
      "      stage     id    ping       mem    memExt  timestamp  init  drivers  \\\n",
      "0         6  45699  114258  0.622499  0.005118  836578153   255        0   \n",
      "1         6  45699  114258  0.622499  0.005118  836602667   255        0   \n",
      "2         6  45699  114258  0.622499  0.005118  836627432   255        0   \n",
      "3         6  45699  114258  0.622499  0.005118  836652508   255        0   \n",
      "4         6  45699  114258  0.622499  0.005118  836682314   255        0   \n",
      "...     ...    ...     ...       ...       ...        ...   ...      ...   \n",
      "4377      6  45699   76000  0.624352  0.005118  964602239   255        0   \n",
      "4378      6  45699   76000  0.624352  0.005118  964627432   255        0   \n",
      "4379      6  45699   77354  0.624352  0.005118  964658356   255        0   \n",
      "4380      6  45699   77354  0.624352  0.005118  964679426   255        0   \n",
      "4381      6  45699   77354  0.624352  0.005118  964703177   255        0   \n",
      "\n",
      "              p0         p1          p2          p3         yaw      pitch  \\\n",
      "0     102.263313  97.760483  102.308197  102.330635  124.466660  -9.983269   \n",
      "1     102.293236  97.752998  102.338120  102.345596  124.466660  -9.983269   \n",
      "2     102.248360  97.782913  102.315674  102.330635  124.466660  -9.983269   \n",
      "3     102.248360  97.745522  102.315674  102.345596  124.466660  -9.983269   \n",
      "4     102.240875  97.752998  102.323151  102.368034  124.466660  -9.983269   \n",
      "...          ...        ...         ...         ...         ...        ...   \n",
      "4377  100.273689  97.767960  100.311089  101.178749  131.006195 -10.081766   \n",
      "4378  100.303612  97.745522  100.333527  101.208672  131.006195 -10.081766   \n",
      "4379  100.296127  97.752998  100.318565  101.216148  131.006195 -10.081766   \n",
      "4380  100.318565  97.745522  100.318565  101.208672  131.006195 -10.081766   \n",
      "4381  100.318565  97.782913  100.341011  101.201180  131.006195 -10.081766   \n",
      "\n",
      "          roll     seconds  sync  force  \n",
      "0    -1.030561    0.000000     0      0  \n",
      "1    -1.030561    0.024514     0      0  \n",
      "2    -1.030561    0.049279     0      0  \n",
      "3    -1.030561    0.074355     0      0  \n",
      "4    -1.030561    0.104161     0      0  \n",
      "...        ...         ...   ...    ...  \n",
      "4377 -1.065704  128.024086     0      0  \n",
      "4378 -1.065704  128.049279     0      0  \n",
      "4379 -1.065704  128.080203     0      0  \n",
      "4380 -1.065704  128.101273     0      0  \n",
      "4381 -1.065704  128.125024     0      0  \n",
      "\n",
      "[4382 rows x 18 columns]\n"
     ]
    }
   ],
   "source": [
    "test_dir = \"/Users/davidnull/phd/3D Module/data/force/testing/\"\n",
    "\n",
    "# test_name = \"10.3cm_3a_test5\"\n",
    "# test_name = \"10.3cm_1a_test2\"\n",
    "# test_name = \"10.3cm_2a_test2\"\n",
    "\n",
    "# test_name = \"14cm_1a_test1\"\n",
    "# test_name = \"14cm_2a_test1\"\n",
    "# test_name = \"14cm_3a_test1\"\n",
    "\n",
    "# test_name = \"18cm_1a_test1\"\n",
    "# test_name = \"18cm_2a_test1\"\n",
    "# test_name = \"18cm_3a_test2\"\n",
    "\n",
    "# test_name = \"re10cm_1a_test1\"\n",
    "# test_name = \"re10cm_2a_test1\"\n",
    "# test_name = \"re10cm_3a_test1\"\n",
    "\n",
    "# test_name = \"re14cm_1a_test1\"\n",
    "# test_name = \"re14cm_2a_test1\"\n",
    "test_name = \"re14cm_3a_test1\"\n",
    "\n",
    "# test_name = \"re18cm_1a_test1\"\n",
    "# test_name = \"re18cm_2a_test1\"\n",
    "# test_name = \"re18cm_3a_test1\"\n",
    "\n",
    "csv_ext = \".csv\"\n",
    "mov_ext = \".MOV\"\n",
    "\n",
    "csv_file = test_dir + test_name + csv_ext\n",
    "movie_file = test_dir + test_name + mov_ext\n",
    "\n",
    "vid = cv2.VideoCapture(movie_file)\n",
    "\n",
    "fps = round(vid.get(5))\n",
    "print('Frames per second : ', fps,'FPS')\n",
    "\n",
    "frame_count = vid.get(7)\n",
    "print('Frame count : ', frame_count)\n",
    "\n",
    "df = pd.read_csv(csv_file)\n",
    "df = df.loc[df['stage'] == 6]\n",
    "df = df.reset_index(drop=True)\n",
    "exp_length = len(df)\n",
    "df = df.assign(seconds=[0]*exp_length)\n",
    "df = df.assign(sync=[0]*exp_length)\n",
    "df = df.assign(force=[0]*exp_length)\n",
    "\n",
    "df[\"seconds\"] = df[\"timestamp\"] / 1000000\n",
    "start_time = df[\"seconds\"].iloc[0]\n",
    "df[\"seconds\"] = df[\"seconds\"] - start_time\n",
    "print(df)"
   ]
  },
  {
   "cell_type": "code",
   "execution_count": 134,
   "metadata": {},
   "outputs": [
    {
     "data": {
      "application/vnd.jupyter.widget-view+json": {
       "model_id": "5d0d5caa1b5a48cdbaa64709fe6f49ef",
       "version_major": 2,
       "version_minor": 0
      },
      "text/plain": [
       "interactive(children=(Text(value='', description='sync'), Text(value='', description='force'), FloatSlider(val…"
      ]
     },
     "metadata": {},
     "output_type": "display_data"
    }
   ],
   "source": [
    "@interact(sync=\"\", force=\"\", frame_id=(0,frame_count,1))\n",
    "def f(sync, force, frame_id):\n",
    "    vid.set(cv2.CAP_PROP_POS_FRAMES, frame_id)\n",
    "    ret, frame = vid.read()\n",
    "    rgb_frame = cv2.cvtColor(frame, cv2.COLOR_BGR2RGB)\n",
    "    rotated = cv2.rotate(rgb_frame, cv2.ROTATE_90_CLOCKWISE)\n",
    "    rotated = cv2.rotate(rotated, cv2.ROTATE_90_CLOCKWISE)\n",
    "    cropped = rotated[300:800, 500:1000]\n",
    "    plt.imshow(cropped)\n",
    "    plt.show()\n",
    "    if sync == \"\" or force == \"\":\n",
    "        return\n",
    "    sync = float(sync)\n",
    "    force = float(force)\n",
    "    if frame_id < sync:\n",
    "        return \n",
    "    frames_since = frame_id - sync\n",
    "    time_since = (1/fps) * frames_since\n",
    "    place_id = (df['seconds']-time_since).abs().argsort()[0]\n",
    "    df.at[place_id, \"force\"] = force\n",
    "    df.at[place_id, \"sync\"] = sync\n",
    "    return"
   ]
  },
  {
   "cell_type": "markdown",
   "metadata": {},
   "source": [
    "1. sync frame stamp\n",
    "2. match force data"
   ]
  },
  {
   "cell_type": "code",
   "execution_count": 135,
   "metadata": {},
   "outputs": [],
   "source": [
    "df.to_csv(test_name + \"_wforce\" + csv_ext)"
   ]
  },
  {
   "cell_type": "code",
   "execution_count": null,
   "metadata": {},
   "outputs": [],
   "source": []
  }
 ],
 "metadata": {
  "kernelspec": {
   "display_name": "Python 3",
   "language": "python",
   "name": "python3"
  },
  "language_info": {
   "codemirror_mode": {
    "name": "ipython",
    "version": 3
   },
   "file_extension": ".py",
   "mimetype": "text/x-python",
   "name": "python",
   "nbconvert_exporter": "python",
   "pygments_lexer": "ipython3",
   "version": "3.11.6"
  }
 },
 "nbformat": 4,
 "nbformat_minor": 2
}
