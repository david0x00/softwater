{
 "cells": [
  {
   "cell_type": "code",
   "execution_count": 63,
   "metadata": {},
   "outputs": [],
   "source": [
    "import cv2\n",
    "from ipywidgets import interact, interactive, fixed, interact_manual\n",
    "import ipywidgets as widgets\n",
    "from matplotlib import pyplot as plt\n",
    "import pandas as pd"
   ]
  },
  {
   "cell_type": "code",
   "execution_count": 75,
   "metadata": {},
   "outputs": [
    {
     "name": "stdout",
     "output_type": "stream",
     "text": [
      "Frames per second :  30 FPS\n",
      "Frame count :  2802.0\n",
      "     stage     id   ping       mem    memExt  timestamp  init  drivers  \\\n",
      "0        6  15921  84723  0.621153  0.005118   56202747   255        0   \n",
      "1        6  15921  79567  0.621153  0.005118   56252255   255        0   \n",
      "2        6  15921  79567  0.621153  0.005118   56277318   255        0   \n",
      "3        6  15921  79567  0.621153  0.005118   56303502   255        0   \n",
      "4        6  15921  79567  0.621153  0.005118   56327228   255        0   \n",
      "..     ...    ...    ...       ...       ...        ...   ...      ...   \n",
      "520      6  15921  43254  0.626857  0.005118   71802204   255       78   \n",
      "521      6  15921  43254  0.626857  0.005118   71828306   255       78   \n",
      "522      6  15921  43254  0.627096  0.005118   71852302   255       78   \n",
      "523      6  15921  43254  0.627096  0.005118   71879504   255       78   \n",
      "524      6  15921  43254  0.627096  0.005118   71902505   255       78   \n",
      "\n",
      "             p0         p1          p2          p3         yaw     pitch  \\\n",
      "0     99.174164  98.149429   98.328941   98.755295  140.420029 -9.628909   \n",
      "1     99.159203  98.149429   98.321465   98.740334  140.420029 -9.628909   \n",
      "2     99.166679  98.149429   98.321465   98.740334  140.420029 -9.628909   \n",
      "3     99.166679  98.164383   98.321465   98.740334  140.419449 -9.626554   \n",
      "4     99.174164  98.156906   98.321465   98.732849  140.413376 -9.628770   \n",
      "..          ...        ...         ...         ...         ...       ...   \n",
      "520  107.581451  98.067154  107.962921  107.903084  140.332001 -9.589084   \n",
      "521  107.409416  98.074631  107.820808  107.738533  140.331558 -9.580167   \n",
      "522  107.334618  98.059669  107.768448  107.596413  140.331421 -9.586723   \n",
      "523  107.289742  98.052193  107.588928  107.446815  140.338211 -9.580308   \n",
      "524  107.177544  98.067154  107.499176  107.304703  140.337631 -9.577948   \n",
      "\n",
      "         roll    seconds  sync  force  \n",
      "0   -1.032798   0.000000     0      0  \n",
      "1   -1.032798   0.049508     0      0  \n",
      "2   -1.032798   0.074571     0      0  \n",
      "3   -1.026145   0.100755     0      0  \n",
      "4   -1.032216   0.124481     0      0  \n",
      "..        ...        ...   ...    ...  \n",
      "520 -1.017406  15.599457     0      0  \n",
      "521 -1.013149  15.625559     0      0  \n",
      "522 -1.010756  15.649555     0      0  \n",
      "523 -1.013727  15.676757     0      0  \n",
      "524 -1.007077  15.699758     0      0  \n",
      "\n",
      "[525 rows x 18 columns]\n"
     ]
    }
   ],
   "source": [
    "test_dir = \"/Users/davidnull/phd/3D Module/data/force/testing/\"\n",
    "test_name = \"10.3cm_test1\"\n",
    "\n",
    "csv_ext = \".csv\"\n",
    "mov_ext = \".MOV\"\n",
    "\n",
    "csv_file = test_dir + test_name + csv_ext\n",
    "movie_file = test_dir + test_name + mov_ext\n",
    "\n",
    "vid = cv2.VideoCapture(movie_file)\n",
    "\n",
    "fps = round(vid.get(5))\n",
    "print('Frames per second : ', fps,'FPS')\n",
    "\n",
    "frame_count = vid.get(7)\n",
    "print('Frame count : ', frame_count)\n",
    "\n",
    "df = pd.read_csv(csv_file)\n",
    "df = df.loc[df['stage'] == 6]\n",
    "df = df.reset_index(drop=True)\n",
    "exp_length = len(df)\n",
    "df = df.assign(seconds=[0]*exp_length)\n",
    "df = df.assign(sync=[0]*exp_length)\n",
    "df = df.assign(force=[0]*exp_length)\n",
    "\n",
    "df[\"seconds\"] = df[\"timestamp\"] / 1000000\n",
    "start_time = df[\"seconds\"].iloc[0]\n",
    "df[\"seconds\"] = df[\"seconds\"] - start_time\n",
    "print(df)"
   ]
  },
  {
   "cell_type": "code",
   "execution_count": 76,
   "metadata": {},
   "outputs": [
    {
     "data": {
      "application/vnd.jupyter.widget-view+json": {
       "model_id": "3df8c9bbad4b4091ae30e693828697fc",
       "version_major": 2,
       "version_minor": 0
      },
      "text/plain": [
       "interactive(children=(Text(value='', description='sync'), Text(value='', description='force'), FloatSlider(val…"
      ]
     },
     "metadata": {},
     "output_type": "display_data"
    }
   ],
   "source": [
    "@interact(sync=\"\", force=\"\", frame_id=(0,frame_count,1))\n",
    "def f(sync, force, frame_id):\n",
    "    vid.set(cv2.CAP_PROP_POS_FRAMES, frame_id)\n",
    "    ret, frame = vid.read()\n",
    "    rgb_frame = cv2.cvtColor(frame, cv2.COLOR_BGR2RGB)\n",
    "    rotated = cv2.rotate(rgb_frame, cv2.ROTATE_90_CLOCKWISE)\n",
    "    rotated = cv2.rotate(rotated, cv2.ROTATE_90_CLOCKWISE)\n",
    "    cropped = rotated[200:600, 500:1000]\n",
    "    plt.imshow(cropped)\n",
    "    plt.show()\n",
    "    if sync == \"\" or force == \"\":\n",
    "        return\n",
    "    sync = float(sync)\n",
    "    force = float(force)\n",
    "    if frame_id < sync:\n",
    "        return \n",
    "    frames_since = frame_id - sync\n",
    "    time_since = (1/fps) * frames_since\n",
    "    place_id = (df['seconds']-time_since).abs().argsort()[0]\n",
    "    df.at[place_id, \"force\"] = force\n",
    "    df.at[place_id, \"sync\"] = sync\n",
    "    return"
   ]
  },
  {
   "cell_type": "code",
   "execution_count": 77,
   "metadata": {},
   "outputs": [],
   "source": [
    "df.to_csv(test_name + \"_wforce\" + csv_ext)"
   ]
  },
  {
   "cell_type": "code",
   "execution_count": null,
   "metadata": {},
   "outputs": [],
   "source": []
  }
 ],
 "metadata": {
  "kernelspec": {
   "display_name": "Python 3",
   "language": "python",
   "name": "python3"
  },
  "language_info": {
   "codemirror_mode": {
    "name": "ipython",
    "version": 3
   },
   "file_extension": ".py",
   "mimetype": "text/x-python",
   "name": "python",
   "nbconvert_exporter": "python",
   "pygments_lexer": "ipython3",
   "version": "3.11.6"
  }
 },
 "nbformat": 4,
 "nbformat_minor": 2
}
