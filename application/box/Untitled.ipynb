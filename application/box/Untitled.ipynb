{
 "cells": [
  {
   "cell_type": "code",
   "execution_count": 14,
   "id": "8aa911a8",
   "metadata": {},
   "outputs": [],
   "source": [
    "import cv2\n",
    "from matplotlib import pyplot as plt\n",
    "import ipywidgets as widgets\n",
    "from ipywidgets import interact"
   ]
  },
  {
   "cell_type": "code",
   "execution_count": 15,
   "id": "c73732b0",
   "metadata": {},
   "outputs": [
    {
     "data": {
      "application/vnd.jupyter.widget-view+json": {
       "model_id": "0dba776cdfcb48d58bb7c2e0c207dfda",
       "version_major": 2,
       "version_minor": 0
      },
      "text/plain": [
       "interactive(children=(IntSlider(value=30, description='r', max=60), IntSlider(value=30, description='c', max=6…"
      ]
     },
     "metadata": {},
     "output_type": "display_data"
    },
    {
     "data": {
      "text/plain": [
       "<function __main__.x(r=(0, 60, 1), c=(0, 60, 1))>"
      ]
     },
     "execution_count": 15,
     "metadata": {},
     "output_type": "execute_result"
    }
   ],
   "source": [
    "def x(r=(0,60,1), c=(0,60,1)):\n",
    "    img = cv2.imread(\"box5.jpg\")\n",
    "    # hsv_img = cv2.cvtColor(img, cv2.COLOR_BGR2HSV)\n",
    "    print(img[r][c])\n",
    "    img[r][c] = [255, 255, 255]\n",
    "    plt.imshow(img)\n",
    "    plt.show()\n",
    "interact(x)"
   ]
  },
  {
   "cell_type": "code",
   "execution_count": null,
   "id": "4d063870",
   "metadata": {},
   "outputs": [],
   "source": []
  }
 ],
 "metadata": {
  "kernelspec": {
   "display_name": "Python 3 (ipykernel)",
   "language": "python",
   "name": "python3"
  },
  "language_info": {
   "codemirror_mode": {
    "name": "ipython",
    "version": 3
   },
   "file_extension": ".py",
   "mimetype": "text/x-python",
   "name": "python",
   "nbconvert_exporter": "python",
   "pygments_lexer": "ipython3",
   "version": "3.7.3"
  }
 },
 "nbformat": 4,
 "nbformat_minor": 5
}
