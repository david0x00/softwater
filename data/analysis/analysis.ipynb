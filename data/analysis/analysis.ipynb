{
 "cells": [
  {
   "cell_type": "code",
   "execution_count": 48,
   "id": "fcf69e3d",
   "metadata": {},
   "outputs": [],
   "source": [
    "import csv\n",
    "import os\n",
    "import matplotlib.pyplot as plt \n",
    "import numpy as np"
   ]
  },
  {
   "cell_type": "code",
   "execution_count": 49,
   "id": "c879dc33",
   "metadata": {},
   "outputs": [
    {
     "name": "stdout",
     "output_type": "stream",
     "text": [
      "Parsed 10.3cm_1a_test1.csv\n",
      "Parsed 10.3cm_1a_test2.csv\n",
      "Parsed 10.3cm_2a_test1.csv\n",
      "Parsed 10.3cm_2a_test2.csv\n",
      "Parsed 10.3cm_3a_test3.csv\n",
      "Parsed 10.3cm_3a_test4.csv\n",
      "Parsed 10.3cm_test1.csv\n",
      "Parsed 10.3cm_test2.csv\n",
      "Parsed 10.3_3a_test5.csv\n",
      "Parsed 14cm_1a_test1.csv\n",
      "Parsed 14cm_2a_test1.csv\n",
      "Parsed 14cm_3a_test1.csv\n",
      "Parsed 14cm_3a_test2.csv\n",
      "Parsed 18cm_1a_test1.csv\n",
      "Parsed 18cm_2a_test1.csv\n",
      "Parsed 18cm_3a_test1.csv\n",
      "Parsed 18cm_3a_test2.csv\n",
      "Parsed re10cm_1a_test1.csv\n",
      "Parsed re10cm_2a_test1.csv\n",
      "Parsed re10cm_3a_test1.csv\n",
      "Parsed re14cm_1a_test1.csv\n",
      "Parsed re14cm_3a_test1.csv\n",
      "Parsed re18cm_1a_test1.csv\n",
      "Parsed re18cm_2a_test1.csv\n",
      "Parsed re18cm_3a_test1.csv\n"
     ]
    }
   ],
   "source": [
    "def load_data(dir):\n",
    "    files = os.listdir(dir)\n",
    "    data = {}\n",
    "    for i in range(8):\n",
    "        data[i] = []\n",
    "    total_time = 0\n",
    "    for f in files:\n",
    "        with open(f'{dir}/{f}', newline='') as csvfile:\n",
    "            reader = csv.reader(csvfile, delimiter=',')\n",
    "            headers = []\n",
    "            start = 0\n",
    "            end = 0\n",
    "            for (i, row) in enumerate(reader):\n",
    "                if i == 0:\n",
    "                    headers = row\n",
    "                else:\n",
    "                    sd = {}\n",
    "                    for (j, header) in enumerate(headers):\n",
    "                        if '.' in row[j]:\n",
    "                            sd[header] = float(row[j])\n",
    "                        else:\n",
    "                            sd[header] = int(row[j])\n",
    "                    data[sd['stage']].append(sd)\n",
    "\n",
    "                    if i == 1:\n",
    "                        start = sd['timestamp']\n",
    "                    end = sd['timestamp']\n",
    "            total_time += end - start\n",
    "        print(f'Parsed {f}')\n",
    "    return data, total_time\n",
    "data, total_time = load_data('./data')"
   ]
  },
  {
   "cell_type": "code",
   "execution_count": 50,
   "id": "0b1ae5d1",
   "metadata": {},
   "outputs": [],
   "source": [
    "def average_ping():\n",
    "    pings = [0 for _ in data.keys()]\n",
    "    for (i, key) in enumerate(data.keys()):\n",
    "        for sd in data[key]:\n",
    "            pings[i] += sd['ping']\n",
    "        pings[i] /= len(data[key])\n",
    "    return pings\n",
    "\n",
    "def num_packets():\n",
    "    return [len(data[key]) for key in data.keys()]"
   ]
  },
  {
   "cell_type": "code",
   "execution_count": 51,
   "id": "65078991",
   "metadata": {},
   "outputs": [
    {
     "data": {
      "text/plain": [
       "Text(0.5, 1.0, 'Average Ping Between Base and Modules')"
      ]
     },
     "execution_count": 51,
     "metadata": {},
     "output_type": "execute_result"
    },
    {
     "data": {
      "image/png": "[encoded data removed]",
      "text/plain": [
       "<Figure size 360x360 with 1 Axes>"
      ]
     },
     "metadata": {
      "needs_background": "light"
     },
     "output_type": "display_data"
    }
   ],
   "source": [
    "fig = plt.figure(figsize=(5, 5))\n",
    "plt.bar(data.keys(), np.array(average_ping()) / 1000)\n",
    "plt.ylabel(\"Ping (ms)\")\n",
    "plt.xlabel(\"Module\")\n",
    "plt.title(\"Average Ping Between Base and Modules\")\n"
   ]
  },
  {
   "cell_type": "code",
   "execution_count": 52,
   "id": "c7567e26",
   "metadata": {},
   "outputs": [
    {
     "name": "stdout",
     "output_type": "stream",
     "text": [
      "13.07164732054902 10.489856512984762\n"
     ]
    }
   ],
   "source": [
    "slope, intercept = np.polyfit(list(data.keys()), np.array(average_ping()) / 1000, 1)\n",
    "print(slope, intercept)"
   ]
  },
  {
   "cell_type": "code",
   "execution_count": 55,
   "id": "2d5dc020",
   "metadata": {},
   "outputs": [
    {
     "name": "stdout",
     "output_type": "stream",
     "text": [
      "[3.66234008e-05 3.57148327e-05 3.51045935e-05 3.39248583e-05\n",
      " 3.37139002e-05 3.26935153e-05 3.19506352e-05 2.91601946e-05]\n"
     ]
    },
    {
     "data": {
      "text/plain": [
       "Text(0.5, 1.0, 'State Messages Rate per Module')"
      ]
     },
     "execution_count": 55,
     "metadata": {},
     "output_type": "execute_result"
    },
    {
     "data": {
      "image/png": "[encoded data removed]",
      "text/plain": [
       "<Figure size 360x360 with 1 Axes>"
      ]
     },
     "metadata": {
      "needs_background": "light"
     },
     "output_type": "display_data"
    }
   ],
   "source": [
    "fig = plt.figure(figsize=(5, 5))\n",
    "print(np.array(num_packets()) / total_time)\n",
    "plt.bar(data.keys(), np.array(num_packets()) / (total_time / 1e6))\n",
    "plt.ylabel(\"State Messages per second (Hz)\")\n",
    "plt.xlabel(\"Module\")\n",
    "plt.title(\"State Messages Rate per Module\")\n"
   ]
  },
  {
   "cell_type": "code",
   "execution_count": null,
   "id": "cc1d273a",
   "metadata": {},
   "outputs": [],
   "source": []
  },
  {
   "cell_type": "code",
   "execution_count": null,
   "id": "5bbf8ff6",
   "metadata": {},
   "outputs": [],
   "source": []
  }
 ],
 "metadata": {
  "kernelspec": {
   "display_name": "Python 3 (ipykernel)",
   "language": "python",
   "name": "python3"
  },
  "language_info": {
   "codemirror_mode": {
    "name": "ipython",
    "version": 3
   },
   "file_extension": ".py",
   "mimetype": "text/x-python",
   "name": "python",
   "nbconvert_exporter": "python",
   "pygments_lexer": "ipython3",
   "version": "3.9.12"
  }
 },
 "nbformat": 4,
 "nbformat_minor": 5
}
