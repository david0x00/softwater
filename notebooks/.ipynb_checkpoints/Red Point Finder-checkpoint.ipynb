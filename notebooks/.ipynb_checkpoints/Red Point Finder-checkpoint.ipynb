{
 "cells": [
  {
   "cell_type": "code",
   "execution_count": 1,
   "metadata": {},
   "outputs": [],
   "source": [
    "import numpy as np\n",
    "from matplotlib import pyplot as plt\n",
    "from ipywidgets import interact\n",
    "import cv2\n",
    "plt.rcParams['figure.dpi'] = 200"
   ]
  },
  {
   "cell_type": "code",
   "execution_count": 2,
   "metadata": {},
   "outputs": [],
   "source": [
    "mtx = np.array([\n",
    "    [1535.10668, 0, 954.393136],\n",
    "    [0, 1530.80529, 543.030187],\n",
    "    [0,0,1]\n",
    "])\n",
    "\n",
    "newcameramtx = np.array([\n",
    "    [1559.8905, 0, 942.619458],\n",
    "    [0, 1544.98389, 543.694259],\n",
    "    [0,0,1]\n",
    "])\n",
    "\n",
    "inv_camera_mtx = np.linalg.inv(newcameramtx)\n",
    "\n",
    "dist = np.array([[0.19210016, -0.4423498, 0.00093771, -0.00542759, 0.25832642 ]])"
   ]
  },
  {
   "cell_type": "code",
   "execution_count": null,
   "metadata": {},
   "outputs": [],
   "source": [
    "def findThresholds(img_num=(0,575,1), value_down=(0,255,1)):\n",
    "    photo_directory = \"/media/user1/Data 2000/soft_robotics_experiments/training_data/round_1/s_curve2\"\n",
    "    img_file = photo_directory + \"/\" + str(img_num) + \".jpg\"\n",
    "    img = cv2.imread(img_file)\n",
    "    img = cv2.undistort(img, mtx, dist, None, newcameramtx)\n",
    "    \n",
    "    lower = np.array([99,37,90])\n",
    "    upper = np.array([139,140,180])\n",
    "    hsv_img = cv2.cvtColor(img, cv2.COLOR_BGR2HSV)\n",
    "    blur_img = cv2.GaussianBlur(hsv_img, (25,25), 0)\n",
    "    red_mask = cv2.inRange(blur_img, lower, upper)\n",
    "    red_mask = cv2.erode(red_mask, None, iterations=3)\n",
    "    red_mask = cv2.dilate(red_mask, None, iterations=3)\n",
    "    contours, hierarchy = cv2.findContours(red_mask, cv2.RETR_EXTERNAL, cv2.CHAIN_APPROX_SIMPLE)\n",
    "    num_of_points = len(contours)\n",
    "    print(num_of_points)\n",
    "    blue_markers = []\n",
    "    for c in contours:\n",
    "        ((x,y), radius) = cv2.minEnclosingCircle(c)\n",
    "        if x > 300 and x < 1500 and (x > 525 or y < 951):\n",
    "            blue_markers.append((x,y))\n",
    "    rm = None\n",
    "    for i in range(0, len(blue_markers)-2):\n",
    "        new_list = sorted(blue_markers[i:i+3])\n",
    "        one = new_list[0][1]\n",
    "        two = new_list[1][1]\n",
    "        three = new_list[2][1]\n",
    "        if (abs(one - two) < 25) and (abs(one - three) < 25) and (abs(two - three) < 25):\n",
    "            print(\"yo\")\n",
    "            print(new_list[1])\n",
    "            idx = blue_markers.index(new_list[1])\n",
    "            rm = new_list[1]\n",
    "            print(blue_markers)\n",
    "    if rm != None:\n",
    "        blue_markers.remove(rm)\n",
    "    print(len(blue_markers))\n",
    "    plt.imshow(red_mask)\n",
    "    plt.show()\n",
    "interact(findThresholds)"
   ]
  },
  {
   "cell_type": "code",
   "execution_count": 45,
   "metadata": {
    "scrolled": false
   },
   "outputs": [
    {
     "name": "stderr",
     "output_type": "stream",
     "text": [
      "Widget Javascript not detected.  It may not be installed or enabled properly.\n"
     ]
    },
    {
     "data": {
      "application/vnd.jupyter.widget-view+json": {
       "model_id": "97760bd17ee34e23be726a546a48a3d6"
      }
     },
     "metadata": {},
     "output_type": "display_data"
    },
    {
     "data": {
      "text/plain": [
       "<function __main__.findThresholds(img_num=(0, 575, 1), value_down=(0, 255, 1))>"
      ]
     },
     "execution_count": 45,
     "metadata": {},
     "output_type": "execute_result"
    }
   ],
   "source": [
    "def findThresholds(img_num=(0,575,1), value_down=(0,255,1)):\n",
    "    photo_directory = \"/media/user1/Data 2000/soft_robotics_experiments/training_data/round_1/s_curve2\"\n",
    "    img_file = photo_directory + \"/\" + str(img_num) + \".jpg\"\n",
    "    img = cv2.imread(img_file)\n",
    "    img = cv2.undistort(img, mtx, dist, None, newcameramtx)\n",
    "    \n",
    "    lower = np.array([99,37,90])\n",
    "    upper = np.array([139,140,180])\n",
    "    hsv_img = cv2.cvtColor(img, cv2.COLOR_BGR2HSV)\n",
    "    blur_img = cv2.GaussianBlur(hsv_img, (25,25), 0)\n",
    "    red_mask = cv2.inRange(blur_img, lower, upper)\n",
    "    red_mask = cv2.erode(red_mask, None, iterations=3)\n",
    "    red_mask = cv2.dilate(red_mask, None, iterations=3)\n",
    "    contours, hierarchy = cv2.findContours(red_mask, cv2.RETR_EXTERNAL, cv2.CHAIN_APPROX_SIMPLE)\n",
    "    num_of_points = len(contours)\n",
    "    print(num_of_points)\n",
    "    blue_markers = []\n",
    "    for c in contours:\n",
    "        ((x,y), radius) = cv2.minEnclosingCircle(c)\n",
    "        if x > 300 and x < 1500 and (x > 525 or y < 951):\n",
    "            blue_markers.append((x,y))\n",
    "    rm = None\n",
    "    for i in range(0, len(blue_markers)-2):\n",
    "        new_list = sorted(blue_markers[i:i+3])\n",
    "        one = new_list[0][1]\n",
    "        two = new_list[1][1]\n",
    "        three = new_list[2][1]\n",
    "        if (abs(one - two) < 25) and (abs(one - three) < 25) and (abs(two - three) < 25):\n",
    "            print(\"yo\")\n",
    "            print(new_list[1])\n",
    "            idx = blue_markers.index(new_list[1])\n",
    "            rm = new_list[1]\n",
    "            print(blue_markers)\n",
    "    if rm != None:\n",
    "        blue_markers.remove(rm)\n",
    "    print(len(blue_markers))\n",
    "    plt.imshow(red_mask)\n",
    "    plt.show()\n",
    "interact(findThresholds)"
   ]
  },
  {
   "cell_type": "code",
   "execution_count": 16,
   "metadata": {},
   "outputs": [
    {
     "data": {
      "text/plain": [
       "[2]"
      ]
     },
     "execution_count": 16,
     "metadata": {},
     "output_type": "execute_result"
    }
   ],
   "source": [
    "x = [1,2,3,4]\n",
    "x[1:2]"
   ]
  },
  {
   "cell_type": "code",
   "execution_count": 46,
   "metadata": {},
   "outputs": [
    {
     "name": "stderr",
     "output_type": "stream",
     "text": [
      "Widget Javascript not detected.  It may not be installed or enabled properly.\n"
     ]
    },
    {
     "data": {
      "application/vnd.jupyter.widget-view+json": {
       "model_id": "41cc24f4c1294145a2b3f339f2f9758c"
      }
     },
     "metadata": {},
     "output_type": "display_data"
    },
    {
     "data": {
      "text/plain": [
       "<function __main__.findPixVal(x=(0, 1920, 1), y=(0, 1080, 1))>"
      ]
     },
     "execution_count": 46,
     "metadata": {},
     "output_type": "execute_result"
    }
   ],
   "source": [
    "def findPixVal(x=(0,1920,1), y=(0,1080,1)):\n",
    "    photo_directory = \"/media/user1/Data 2000/soft_robotics_experiments/training_data/round_1/s_curve2\"\n",
    "    img_file = photo_directory + \"/\" + str(437) + \".jpg\"\n",
    "    img = cv2.imread(img_file)\n",
    "    img = cv2.undistort(img, mtx, dist, None, newcameramtx)\n",
    "    hsv_img = cv2.cvtColor(img, cv2.COLOR_BGR2HSV)\n",
    "    blur_img = cv2.GaussianBlur(hsv_img, (25,25), 0)\n",
    "    \n",
    "    print(blur_img[y][x])\n",
    "    image = cv2.circle(img, (x,y), 10, (255,0,0), 2)\n",
    "    \n",
    "    plt.imshow(image)\n",
    "    plt.show()\n",
    "interact(findPixVal)"
   ]
  },
  {
   "cell_type": "code",
   "execution_count": null,
   "metadata": {},
   "outputs": [],
   "source": [
    "newcameramtx = np.array([\n",
    "    [1559.8905, 0, 942.619458],\n",
    "    [0, 1544.98389, 543.694259],\n",
    "    [0,0,1]\n",
    "])\n",
    "inv_camera_mtx = np.linalg.inv(newcameramtx)\n",
    "x = np.array([[8.7325],\n",
    "              [642.186],\n",
    "              [1]])\n",
    "print(x.shape)\n",
    "world_coord = np.matmul(inv_camera_mtx, x) * 33\n",
    "print(world_coord)"
   ]
  },
  {
   "cell_type": "code",
   "execution_count": null,
   "metadata": {},
   "outputs": [],
   "source": []
  },
  {
   "cell_type": "code",
   "execution_count": null,
   "metadata": {},
   "outputs": [],
   "source": []
  },
  {
   "cell_type": "code",
   "execution_count": 32,
   "metadata": {},
   "outputs": [
    {
     "name": "stdout",
     "output_type": "stream",
     "text": [
      "[1.00000000e+00 1.26140429e-15]\n"
     ]
    }
   ],
   "source": [
    "x = [1,2,3]\n",
    "y = [1,2,3]\n",
    "par = np.polyfit(x, y, 1)[]\n",
    "print(par)"
   ]
  },
  {
   "cell_type": "code",
   "execution_count": null,
   "metadata": {},
   "outputs": [],
   "source": []
  },
  {
   "cell_type": "code",
   "execution_count": 49,
   "metadata": {},
   "outputs": [
    {
     "name": "stdout",
     "output_type": "stream",
     "text": [
      "3\n",
      "4\n",
      "5\n"
     ]
    }
   ],
   "source": [
    "for i in range(3,6):\n",
    "    print(i)"
   ]
  },
  {
   "cell_type": "code",
   "execution_count": null,
   "metadata": {},
   "outputs": [],
   "source": []
  },
  {
   "cell_type": "code",
   "execution_count": null,
   "metadata": {},
   "outputs": [],
   "source": []
  },
  {
   "cell_type": "code",
   "execution_count": null,
   "metadata": {},
   "outputs": [],
   "source": []
  }
 ],
 "metadata": {
  "kernelspec": {
   "display_name": "Python 3",
   "language": "python",
   "name": "python3"
  },
  "language_info": {
   "codemirror_mode": {
    "name": "ipython",
    "version": 3
   },
   "file_extension": ".py",
   "mimetype": "text/x-python",
   "name": "python",
   "nbconvert_exporter": "python",
   "pygments_lexer": "ipython3",
   "version": "3.8.10"
  }
 },
 "nbformat": 4,
 "nbformat_minor": 4
}
