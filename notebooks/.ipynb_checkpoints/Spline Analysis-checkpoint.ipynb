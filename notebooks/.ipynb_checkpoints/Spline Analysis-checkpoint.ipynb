{
 "cells": [
  {
   "cell_type": "code",
   "execution_count": 1,
   "metadata": {},
   "outputs": [],
   "source": [
    "import pandas as pd\n",
    "import numpy as np\n",
    "from scipy.interpolate import interp1d\n",
    "import matplotlib.pyplot as plt"
   ]
  },
  {
   "cell_type": "code",
   "execution_count": 2,
   "metadata": {},
   "outputs": [],
   "source": [
    "markers_df = pd.read_csv(\"m2_right_actuator_simple2_markers.csv\")"
   ]
  },
  {
   "cell_type": "code",
   "execution_count": 3,
   "metadata": {},
   "outputs": [
    {
     "data": {
      "text/html": [
       "<div>\n",
       "<style scoped>\n",
       "    .dataframe tbody tr th:only-of-type {\n",
       "        vertical-align: middle;\n",
       "    }\n",
       "\n",
       "    .dataframe tbody tr th {\n",
       "        vertical-align: top;\n",
       "    }\n",
       "\n",
       "    .dataframe thead th {\n",
       "        text-align: right;\n",
       "    }\n",
       "</style>\n",
       "<table border=\"1\" class=\"dataframe\">\n",
       "  <thead>\n",
       "    <tr style=\"text-align: right;\">\n",
       "      <th></th>\n",
       "      <th>M0X</th>\n",
       "      <th>M0Y</th>\n",
       "      <th>M0T</th>\n",
       "      <th>M1X</th>\n",
       "      <th>M1Y</th>\n",
       "      <th>M1T</th>\n",
       "      <th>M2X</th>\n",
       "      <th>M2Y</th>\n",
       "      <th>M2T</th>\n",
       "      <th>M3X</th>\n",
       "      <th>...</th>\n",
       "      <th>M7T</th>\n",
       "      <th>M8X</th>\n",
       "      <th>M8Y</th>\n",
       "      <th>M8T</th>\n",
       "      <th>M9X</th>\n",
       "      <th>M9Y</th>\n",
       "      <th>M9T</th>\n",
       "      <th>M10X</th>\n",
       "      <th>M10Y</th>\n",
       "      <th>M10T</th>\n",
       "    </tr>\n",
       "  </thead>\n",
       "  <tbody>\n",
       "    <tr>\n",
       "      <td>0</td>\n",
       "      <td>0.0</td>\n",
       "      <td>0.0</td>\n",
       "      <td>0</td>\n",
       "      <td>1.363647</td>\n",
       "      <td>77.863647</td>\n",
       "      <td>0</td>\n",
       "      <td>4.500000</td>\n",
       "      <td>128.000000</td>\n",
       "      <td>0</td>\n",
       "      <td>8.000000</td>\n",
       "      <td>...</td>\n",
       "      <td>0</td>\n",
       "      <td>12.500000</td>\n",
       "      <td>517.222229</td>\n",
       "      <td>0</td>\n",
       "      <td>17.000000</td>\n",
       "      <td>569.000000</td>\n",
       "      <td>0</td>\n",
       "      <td>12.500000</td>\n",
       "      <td>648.500000</td>\n",
       "      <td>0</td>\n",
       "    </tr>\n",
       "    <tr>\n",
       "      <td>1</td>\n",
       "      <td>0.0</td>\n",
       "      <td>0.0</td>\n",
       "      <td>0</td>\n",
       "      <td>1.730774</td>\n",
       "      <td>78.000000</td>\n",
       "      <td>0</td>\n",
       "      <td>4.613464</td>\n",
       "      <td>128.247925</td>\n",
       "      <td>0</td>\n",
       "      <td>8.000000</td>\n",
       "      <td>...</td>\n",
       "      <td>0</td>\n",
       "      <td>12.500000</td>\n",
       "      <td>517.318176</td>\n",
       "      <td>0</td>\n",
       "      <td>17.000000</td>\n",
       "      <td>569.000000</td>\n",
       "      <td>0</td>\n",
       "      <td>12.500000</td>\n",
       "      <td>648.500000</td>\n",
       "      <td>0</td>\n",
       "    </tr>\n",
       "    <tr>\n",
       "      <td>2</td>\n",
       "      <td>0.0</td>\n",
       "      <td>0.0</td>\n",
       "      <td>0</td>\n",
       "      <td>1.500000</td>\n",
       "      <td>77.863647</td>\n",
       "      <td>0</td>\n",
       "      <td>4.500000</td>\n",
       "      <td>127.863647</td>\n",
       "      <td>0</td>\n",
       "      <td>8.162598</td>\n",
       "      <td>...</td>\n",
       "      <td>0</td>\n",
       "      <td>12.500000</td>\n",
       "      <td>516.863647</td>\n",
       "      <td>0</td>\n",
       "      <td>17.000000</td>\n",
       "      <td>568.863647</td>\n",
       "      <td>0</td>\n",
       "      <td>13.000000</td>\n",
       "      <td>648.363647</td>\n",
       "      <td>0</td>\n",
       "    </tr>\n",
       "    <tr>\n",
       "      <td>3</td>\n",
       "      <td>0.0</td>\n",
       "      <td>0.0</td>\n",
       "      <td>0</td>\n",
       "      <td>1.730774</td>\n",
       "      <td>77.863647</td>\n",
       "      <td>0</td>\n",
       "      <td>4.500000</td>\n",
       "      <td>127.590942</td>\n",
       "      <td>0</td>\n",
       "      <td>8.000000</td>\n",
       "      <td>...</td>\n",
       "      <td>0</td>\n",
       "      <td>12.500000</td>\n",
       "      <td>516.863647</td>\n",
       "      <td>0</td>\n",
       "      <td>17.000000</td>\n",
       "      <td>568.863647</td>\n",
       "      <td>0</td>\n",
       "      <td>12.500000</td>\n",
       "      <td>648.363647</td>\n",
       "      <td>0</td>\n",
       "    </tr>\n",
       "    <tr>\n",
       "      <td>4</td>\n",
       "      <td>0.0</td>\n",
       "      <td>0.0</td>\n",
       "      <td>0</td>\n",
       "      <td>1.500000</td>\n",
       "      <td>77.812500</td>\n",
       "      <td>0</td>\n",
       "      <td>4.500000</td>\n",
       "      <td>128.000000</td>\n",
       "      <td>0</td>\n",
       "      <td>8.162598</td>\n",
       "      <td>...</td>\n",
       "      <td>0</td>\n",
       "      <td>12.500000</td>\n",
       "      <td>517.000000</td>\n",
       "      <td>0</td>\n",
       "      <td>17.000000</td>\n",
       "      <td>569.000000</td>\n",
       "      <td>0</td>\n",
       "      <td>12.500000</td>\n",
       "      <td>648.500000</td>\n",
       "      <td>0</td>\n",
       "    </tr>\n",
       "    <tr>\n",
       "      <td>...</td>\n",
       "      <td>...</td>\n",
       "      <td>...</td>\n",
       "      <td>...</td>\n",
       "      <td>...</td>\n",
       "      <td>...</td>\n",
       "      <td>...</td>\n",
       "      <td>...</td>\n",
       "      <td>...</td>\n",
       "      <td>...</td>\n",
       "      <td>...</td>\n",
       "      <td>...</td>\n",
       "      <td>...</td>\n",
       "      <td>...</td>\n",
       "      <td>...</td>\n",
       "      <td>...</td>\n",
       "      <td>...</td>\n",
       "      <td>...</td>\n",
       "      <td>...</td>\n",
       "      <td>...</td>\n",
       "      <td>...</td>\n",
       "      <td>...</td>\n",
       "    </tr>\n",
       "    <tr>\n",
       "      <td>222</td>\n",
       "      <td>0.0</td>\n",
       "      <td>0.0</td>\n",
       "      <td>0</td>\n",
       "      <td>1.764160</td>\n",
       "      <td>77.376465</td>\n",
       "      <td>0</td>\n",
       "      <td>4.881165</td>\n",
       "      <td>127.311523</td>\n",
       "      <td>0</td>\n",
       "      <td>8.264160</td>\n",
       "      <td>...</td>\n",
       "      <td>0</td>\n",
       "      <td>12.264160</td>\n",
       "      <td>517.590088</td>\n",
       "      <td>0</td>\n",
       "      <td>16.764160</td>\n",
       "      <td>569.226440</td>\n",
       "      <td>0</td>\n",
       "      <td>11.764160</td>\n",
       "      <td>648.226440</td>\n",
       "      <td>0</td>\n",
       "    </tr>\n",
       "    <tr>\n",
       "      <td>223</td>\n",
       "      <td>0.0</td>\n",
       "      <td>0.0</td>\n",
       "      <td>0</td>\n",
       "      <td>1.578674</td>\n",
       "      <td>78.121460</td>\n",
       "      <td>0</td>\n",
       "      <td>4.578674</td>\n",
       "      <td>128.036255</td>\n",
       "      <td>0</td>\n",
       "      <td>8.078674</td>\n",
       "      <td>...</td>\n",
       "      <td>0</td>\n",
       "      <td>12.078674</td>\n",
       "      <td>518.172607</td>\n",
       "      <td>0</td>\n",
       "      <td>16.578674</td>\n",
       "      <td>569.808960</td>\n",
       "      <td>0</td>\n",
       "      <td>11.809448</td>\n",
       "      <td>648.308960</td>\n",
       "      <td>0</td>\n",
       "    </tr>\n",
       "    <tr>\n",
       "      <td>224</td>\n",
       "      <td>0.0</td>\n",
       "      <td>0.0</td>\n",
       "      <td>0</td>\n",
       "      <td>1.764160</td>\n",
       "      <td>77.538940</td>\n",
       "      <td>0</td>\n",
       "      <td>5.264160</td>\n",
       "      <td>127.626465</td>\n",
       "      <td>0</td>\n",
       "      <td>8.264160</td>\n",
       "      <td>...</td>\n",
       "      <td>0</td>\n",
       "      <td>12.264160</td>\n",
       "      <td>517.726440</td>\n",
       "      <td>0</td>\n",
       "      <td>16.764160</td>\n",
       "      <td>569.226440</td>\n",
       "      <td>0</td>\n",
       "      <td>12.264160</td>\n",
       "      <td>648.226440</td>\n",
       "      <td>0</td>\n",
       "    </tr>\n",
       "    <tr>\n",
       "      <td>225</td>\n",
       "      <td>0.0</td>\n",
       "      <td>0.0</td>\n",
       "      <td>0</td>\n",
       "      <td>1.753967</td>\n",
       "      <td>77.375977</td>\n",
       "      <td>0</td>\n",
       "      <td>4.753967</td>\n",
       "      <td>127.563477</td>\n",
       "      <td>0</td>\n",
       "      <td>8.353943</td>\n",
       "      <td>...</td>\n",
       "      <td>0</td>\n",
       "      <td>12.253967</td>\n",
       "      <td>517.563477</td>\n",
       "      <td>0</td>\n",
       "      <td>16.753967</td>\n",
       "      <td>569.063477</td>\n",
       "      <td>0</td>\n",
       "      <td>11.984741</td>\n",
       "      <td>647.563477</td>\n",
       "      <td>0</td>\n",
       "    </tr>\n",
       "    <tr>\n",
       "      <td>226</td>\n",
       "      <td>0.0</td>\n",
       "      <td>0.0</td>\n",
       "      <td>0</td>\n",
       "      <td>1.764160</td>\n",
       "      <td>77.226440</td>\n",
       "      <td>0</td>\n",
       "      <td>4.764160</td>\n",
       "      <td>127.453735</td>\n",
       "      <td>0</td>\n",
       "      <td>8.264160</td>\n",
       "      <td>...</td>\n",
       "      <td>0</td>\n",
       "      <td>12.509216</td>\n",
       "      <td>517.656891</td>\n",
       "      <td>0</td>\n",
       "      <td>16.764160</td>\n",
       "      <td>569.226440</td>\n",
       "      <td>0</td>\n",
       "      <td>11.764160</td>\n",
       "      <td>647.726440</td>\n",
       "      <td>0</td>\n",
       "    </tr>\n",
       "  </tbody>\n",
       "</table>\n",
       "<p>227 rows × 33 columns</p>\n",
       "</div>"
      ],
      "text/plain": [
       "     M0X  M0Y  M0T       M1X        M1Y  M1T       M2X         M2Y  M2T  \\\n",
       "0    0.0  0.0    0  1.363647  77.863647    0  4.500000  128.000000    0   \n",
       "1    0.0  0.0    0  1.730774  78.000000    0  4.613464  128.247925    0   \n",
       "2    0.0  0.0    0  1.500000  77.863647    0  4.500000  127.863647    0   \n",
       "3    0.0  0.0    0  1.730774  77.863647    0  4.500000  127.590942    0   \n",
       "4    0.0  0.0    0  1.500000  77.812500    0  4.500000  128.000000    0   \n",
       "..   ...  ...  ...       ...        ...  ...       ...         ...  ...   \n",
       "222  0.0  0.0    0  1.764160  77.376465    0  4.881165  127.311523    0   \n",
       "223  0.0  0.0    0  1.578674  78.121460    0  4.578674  128.036255    0   \n",
       "224  0.0  0.0    0  1.764160  77.538940    0  5.264160  127.626465    0   \n",
       "225  0.0  0.0    0  1.753967  77.375977    0  4.753967  127.563477    0   \n",
       "226  0.0  0.0    0  1.764160  77.226440    0  4.764160  127.453735    0   \n",
       "\n",
       "          M3X  ...  M7T        M8X         M8Y  M8T        M9X         M9Y  \\\n",
       "0    8.000000  ...    0  12.500000  517.222229    0  17.000000  569.000000   \n",
       "1    8.000000  ...    0  12.500000  517.318176    0  17.000000  569.000000   \n",
       "2    8.162598  ...    0  12.500000  516.863647    0  17.000000  568.863647   \n",
       "3    8.000000  ...    0  12.500000  516.863647    0  17.000000  568.863647   \n",
       "4    8.162598  ...    0  12.500000  517.000000    0  17.000000  569.000000   \n",
       "..        ...  ...  ...        ...         ...  ...        ...         ...   \n",
       "222  8.264160  ...    0  12.264160  517.590088    0  16.764160  569.226440   \n",
       "223  8.078674  ...    0  12.078674  518.172607    0  16.578674  569.808960   \n",
       "224  8.264160  ...    0  12.264160  517.726440    0  16.764160  569.226440   \n",
       "225  8.353943  ...    0  12.253967  517.563477    0  16.753967  569.063477   \n",
       "226  8.264160  ...    0  12.509216  517.656891    0  16.764160  569.226440   \n",
       "\n",
       "     M9T       M10X        M10Y  M10T  \n",
       "0      0  12.500000  648.500000     0  \n",
       "1      0  12.500000  648.500000     0  \n",
       "2      0  13.000000  648.363647     0  \n",
       "3      0  12.500000  648.363647     0  \n",
       "4      0  12.500000  648.500000     0  \n",
       "..   ...        ...         ...   ...  \n",
       "222    0  11.764160  648.226440     0  \n",
       "223    0  11.809448  648.308960     0  \n",
       "224    0  12.264160  648.226440     0  \n",
       "225    0  11.984741  647.563477     0  \n",
       "226    0  11.764160  647.726440     0  \n",
       "\n",
       "[227 rows x 33 columns]"
      ]
     },
     "execution_count": 3,
     "metadata": {},
     "output_type": "execute_result"
    }
   ],
   "source": [
    "markers_df"
   ]
  },
  {
   "cell_type": "code",
   "execution_count": 4,
   "metadata": {},
   "outputs": [],
   "source": [
    "x = np.linspace(0, 10, num=11, endpoint=True)\n",
    "y = np.cos(-x**2/9.0)\n",
    "f = interp1d(x, y)\n",
    "f2 = interp1d(x, y, kind='cubic')"
   ]
  },
  {
   "cell_type": "code",
   "execution_count": 5,
   "metadata": {},
   "outputs": [
    {
     "data": {
      "image/png": "[encoded data removed]",
      "text/plain": [
       "<Figure size 432x288 with 1 Axes>"
      ]
     },
     "metadata": {
      "needs_background": "light"
     },
     "output_type": "display_data"
    }
   ],
   "source": [
    "xnew = np.linspace(0, 10, num=41, endpoint=True)\n",
    "plt.plot(x, y, 'o', xnew, f(xnew), '-', xnew, f2(xnew), '--')\n",
    "plt.legend(['data', 'linear', 'cubic'], loc='best')\n",
    "plt.show()"
   ]
  },
  {
   "cell_type": "code",
   "execution_count": 6,
   "metadata": {},
   "outputs": [],
   "source": [
    "curve_idx = 100\n",
    "num_points = 11\n",
    "points = markers_df.loc[curve_idx, :]\n",
    "x = []\n",
    "y = []\n",
    "for i in range(num_points):\n",
    "    x_str = \"M\" + str(i) + \"X\"\n",
    "    y_str = \"M\" + str(i) + \"Y\"\n",
    "    x.append(points[x_str])\n",
    "    y.append(points[y_str])"
   ]
  },
  {
   "cell_type": "code",
   "execution_count": 7,
   "metadata": {},
   "outputs": [
    {
     "data": {
      "text/plain": [
       "(-350, 350)"
      ]
     },
     "execution_count": 7,
     "metadata": {},
     "output_type": "execute_result"
    },
    {
     "data": {
      "image/png": "[encoded data removed]",
      "text/plain": [
       "<Figure size 432x288 with 1 Axes>"
      ]
     },
     "metadata": {
      "needs_background": "light"
     },
     "output_type": "display_data"
    }
   ],
   "source": [
    "plt.plot(x,y)\n",
    "plt.xlim([-350,350])"
   ]
  },
  {
   "cell_type": "code",
   "execution_count": 8,
   "metadata": {},
   "outputs": [
    {
     "data": {
      "text/plain": [
       "(-350, 350)"
      ]
     },
     "execution_count": 8,
     "metadata": {},
     "output_type": "execute_result"
    },
    {
     "data": {
      "image/png": "[encoded data removed]",
      "text/plain": [
       "<Figure size 432x288 with 1 Axes>"
      ]
     },
     "metadata": {
      "needs_background": "light"
     },
     "output_type": "display_data"
    }
   ],
   "source": [
    "plt.plot(y,x)\n",
    "plt.ylim([-350,350])"
   ]
  },
  {
   "cell_type": "code",
   "execution_count": 9,
   "metadata": {},
   "outputs": [
    {
     "name": "stdout",
     "output_type": "stream",
     "text": [
      "[0.0, 76.62103271484375, 126.84832763671876, 180.98468017578125, 234.12103271484372, 331.9688720703125, 425.1427612304688, 496.12103271484375, 565.1210327148438, 628.6210327148438, 693.1210327148438]\n"
     ]
    },
    {
     "data": {
      "image/png": "[encoded data removed]",
      "text/plain": [
       "<Figure size 432x288 with 1 Axes>"
      ]
     },
     "metadata": {
      "needs_background": "light"
     },
     "output_type": "display_data"
    }
   ],
   "source": [
    "f2 = interp1d(y, x, kind='linear')\n",
    "print(y)\n",
    "xnew = np.linspace(0, 693, num=41, endpoint=True)\n",
    "ynew = f2(xnew)\n",
    "plt.plot(x, y, 'o', ynew, xnew, '--')\n",
    "plt.legend(['data', 'cubic'], loc='best')\n",
    "plt.xlim([-350,350])\n",
    "plt.show()"
   ]
  },
  {
   "cell_type": "code",
   "execution_count": 10,
   "metadata": {},
   "outputs": [
    {
     "data": {
      "text/plain": [
       "<scipy.interpolate.interpolate.interp1d at 0x127e10b30>"
      ]
     },
     "execution_count": 10,
     "metadata": {},
     "output_type": "execute_result"
    }
   ],
   "source": [
    "f2"
   ]
  },
  {
   "cell_type": "code",
   "execution_count": 11,
   "metadata": {},
   "outputs": [
    {
     "ename": "AttributeError",
     "evalue": "'interp1d' object has no attribute 'range'",
     "output_type": "error",
     "traceback": [
      "\u001b[0;31m---------------------------------------------------------------------------\u001b[0m",
      "\u001b[0;31mAttributeError\u001b[0m                            Traceback (most recent call last)",
      "\u001b[0;32m<ipython-input-11-20aaa88650ba>\u001b[0m in \u001b[0;36m<module>\u001b[0;34m\u001b[0m\n\u001b[0;32m----> 1\u001b[0;31m \u001b[0mf2\u001b[0m\u001b[0;34m.\u001b[0m\u001b[0mrange\u001b[0m\u001b[0;34m\u001b[0m\u001b[0;34m\u001b[0m\u001b[0m\n\u001b[0m",
      "\u001b[0;31mAttributeError\u001b[0m: 'interp1d' object has no attribute 'range'"
     ]
    }
   ],
   "source": [
    "f2.range"
   ]
  },
  {
   "cell_type": "code",
   "execution_count": null,
   "metadata": {},
   "outputs": [],
   "source": []
  }
 ],
 "metadata": {
  "kernelspec": {
   "display_name": "Python 3",
   "language": "python",
   "name": "python3"
  },
  "language_info": {
   "codemirror_mode": {
    "name": "ipython",
    "version": 3
   },
   "file_extension": ".py",
   "mimetype": "text/x-python",
   "name": "python",
   "nbconvert_exporter": "python",
   "pygments_lexer": "ipython3",
   "version": "3.7.7"
  }
 },
 "nbformat": 4,
 "nbformat_minor": 2
}
