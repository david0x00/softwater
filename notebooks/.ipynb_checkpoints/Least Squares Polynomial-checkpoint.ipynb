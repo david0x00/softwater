{
 "cells": [
  {
   "cell_type": "code",
   "execution_count": 3,
   "metadata": {},
   "outputs": [],
   "source": [
    "import numpy as np\n",
    "import matplotlib.pyplot as plt"
   ]
  },
  {
   "cell_type": "code",
   "execution_count": 42,
   "metadata": {},
   "outputs": [],
   "source": [
    "def leastSquaresPolynomial(x, y, order):\n",
    "    n = len(x)\n",
    "    M = np.zeros((order+1, order+1))\n",
    "    b = np.zeros((order+1, 1))\n",
    "    #build up the M matrix\n",
    "    M[0][0] = n\n",
    "    for k in range(1,(2*order)+1):\n",
    "        #print(\"break\")\n",
    "        total = 0\n",
    "        for i in range(n):\n",
    "            total += x[i]**k\n",
    "        r = 0\n",
    "        c = k\n",
    "        while r <= k and c >= 0:\n",
    "            #print(str(r) + \", \" + str(c))\n",
    "            if r <= order and r >= 0 and c <= order and c >=0:\n",
    "                M[r][c] = total\n",
    "            r += 1\n",
    "            c -= 1\n",
    "    \n",
    "    #build the b matrix\n",
    "    for k in range(order+1):\n",
    "        total = 0\n",
    "        for i in range(n):\n",
    "            total += y[i] * (x[i]**k)\n",
    "        b[k][0] = total\n",
    "    \n",
    "    a = []\n",
    "    det_M = np.linalg.det(M)\n",
    "    \n",
    "    for k in range(0, order+1):\n",
    "        Mi = M.copy()\n",
    "        Mi[:, k] = b[:, 0]\n",
    "        det_Mi = np.linalg.det(Mi)\n",
    "        a_k = det_Mi / det_M\n",
    "        a.append(a_k)\n",
    "    a.reverse()\n",
    "    return a"
   ]
  },
  {
   "cell_type": "code",
   "execution_count": 59,
   "metadata": {},
   "outputs": [
    {
     "name": "stdout",
     "output_type": "stream",
     "text": [
      "[-0.023310023310083316, 0.42812742812853627, -2.4848484848549646, 5.198912198925031, 1.46853146853489]\n"
     ]
    }
   ],
   "source": [
    "x = np.array([0,1,2,3,4,5,6,7,8,9])\n",
    "y = np.array([2,3,6,5,4,3,6,7,8,6])\n",
    "a = leastSquaresPolynomial(x, y, 4)\n",
    "print(a)\n",
    "#a_check = np.polyfit(x, y, 2)\n",
    "#print(a_check)"
   ]
  },
  {
   "cell_type": "code",
   "execution_count": 61,
   "metadata": {},
   "outputs": [
    {
     "data": {
      "text/plain": [
       "(-1, 10)"
      ]
     },
     "execution_count": 61,
     "metadata": {},
     "output_type": "execute_result"
    },
    {
     "data": {
      "image/png": "[encoded data removed]",
      "text/plain": [
       "<Figure size 432x288 with 1 Axes>"
      ]
     },
     "metadata": {
      "needs_background": "light"
     },
     "output_type": "display_data"
    }
   ],
   "source": [
    "poly = np.poly1d(a)\n",
    "new_x = np.linspace(x[0], x[-1])\n",
    "new_y = poly(new_x)\n",
    "plt.plot(x, y, \"o\", new_x, new_y)\n",
    "plt.xlim([x[0]-1, x[-1] + 1 ])"
   ]
  },
  {
   "cell_type": "code",
   "execution_count": 27,
   "metadata": {},
   "outputs": [
    {
     "name": "stdout",
     "output_type": "stream",
     "text": [
      "[[0. 0. 0. 0. 0. 0.]\n",
      " [0. 0. 0. 0. 0. 0.]\n",
      " [0. 0. 0. 0. 0. 0.]\n",
      " [0. 0. 0. 0. 0. 0.]\n",
      " [0. 0. 0. 0. 0. 0.]\n",
      " [0. 0. 0. 0. 0. 0.]]\n"
     ]
    }
   ],
   "source": [
    "x = np.zeros((6,6))\n",
    "y = np.array([1,2,3,4,5,6]).reshape((6,1))\n",
    "z = x.copy()\n",
    "z[:, 0] = y[:,0]\n",
    "print(x)"
   ]
  },
  {
   "cell_type": "code",
   "execution_count": null,
   "metadata": {},
   "outputs": [],
   "source": []
  }
 ],
 "metadata": {
  "kernelspec": {
   "display_name": "Python 3",
   "language": "python",
   "name": "python3"
  },
  "language_info": {
   "codemirror_mode": {
    "name": "ipython",
    "version": 3
   },
   "file_extension": ".py",
   "mimetype": "text/x-python",
   "name": "python",
   "nbconvert_exporter": "python",
   "pygments_lexer": "ipython3",
   "version": "3.7.7"
  }
 },
 "nbformat": 4,
 "nbformat_minor": 2
}
