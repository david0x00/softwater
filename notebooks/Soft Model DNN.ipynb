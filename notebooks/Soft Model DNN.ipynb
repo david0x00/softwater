{
 "cells": [
  {
   "cell_type": "code",
   "execution_count": 1,
   "metadata": {},
   "outputs": [],
   "source": [
    "import pandas as pd\n",
    "import numpy as np\n",
    "import sklearn\n",
    "from keras.models import Sequential\n",
    "from keras.layers import Dense, Dropout, Masking, Embedding\n",
    "from matplotlib import pyplot as plt\n",
    "from ipywidgets import interact\n",
    "import pickle\n",
    "plt.rcParams['figure.dpi'] = 200"
   ]
  },
  {
   "cell_type": "code",
   "execution_count": 2,
   "metadata": {},
   "outputs": [],
   "source": [
    "file_headers = [\"/media/user1/Data 2000/soft_robotics_experiments/training_data/round_1/module1_fullext1\",\n",
    "                \"/media/user1/Data 2000/soft_robotics_experiments/training_data/round_1/module1_fullext2\",\n",
    "                \"/media/user1/Data 2000/soft_robotics_experiments/training_data/round_1/module1_fullext3\",\n",
    "                \"/media/user1/Data 2000/soft_robotics_experiments/training_data/round_1/module1_fullext4\",\n",
    "                \"/media/user1/Data 2000/soft_robotics_experiments/training_data/round_1/module2_fullext1\",\n",
    "                \"/media/user1/Data 2000/soft_robotics_experiments/training_data/round_1/module2_fullext2\",\n",
    "                \"/media/user1/Data 2000/soft_robotics_experiments/training_data/round_1/module2_fullext3\",\n",
    "                \"/media/user1/Data 2000/soft_robotics_experiments/training_data/round_1/module2_fullext4\",\n",
    "                \"/media/user1/Data 2000/soft_robotics_experiments/training_data/round_1/s_curve1\",\n",
    "                \"/media/user1/Data 2000/soft_robotics_experiments/training_data/round_1/s_curve2\"]\n",
    "\n",
    "CSV_SFX = \".csv\"\n",
    "MARKERS_SFX = \"_markers\"\n",
    "POLY_SFX = \"_poly\"\n",
    "M10Y = \"M10Y\""
   ]
  },
  {
   "cell_type": "code",
   "execution_count": 3,
   "metadata": {},
   "outputs": [],
   "source": [
    "# distance goes from 22-38. 16 cm of extension at least which is pretty good."
   ]
  },
  {
   "cell_type": "code",
   "execution_count": 4,
   "metadata": {},
   "outputs": [],
   "source": [
    "poly_df_list = []\n",
    "marker_df_list = []\n",
    "data_df_list = []\n",
    "\n",
    "for header in file_headers:\n",
    "    data_file = header + CSV_SFX\n",
    "    marker_file = header + MARKERS_SFX + CSV_SFX\n",
    "    poly_file = header + POLY_SFX + CSV_SFX\n",
    "    \n",
    "    data_df = pd.read_csv(data_file)\n",
    "    marker_df = pd.read_csv(marker_file)\n",
    "    poly_df = pd.read_csv(poly_file)\n",
    "    \n",
    "    zero_indices = list(marker_df[marker_df[M10Y] == 0].index)\n",
    "    \n",
    "    data_df = data_df.drop(data_df.index[zero_indices]).reset_index()\n",
    "    marker_df = marker_df.drop(marker_df.index[zero_indices])\n",
    "    poly_df = poly_df.drop(poly_df.index[zero_indices])\n",
    "    \n",
    "    data_df_list.append(data_df)\n",
    "    marker_df_list.append(marker_df)\n",
    "    poly_df_list.append(poly_df)\n",
    "\n",
    "total_data_df = pd.concat(data_df_list).reset_index()\n",
    "total_marker_df = pd.concat(marker_df_list).reset_index()\n",
    "total_poly_df = pd.concat(poly_df_list).reset_index()\n",
    "\n",
    "\n",
    "training_data_list = [total_data_df, total_marker_df, total_poly_df]\n",
    "all_df = pd.concat(training_data_list, axis=1)\n",
    "\n",
    "x_labels = [\"M1-PL\", \"M1-PR\", \"M2-PL\", \"M2-PR\"]\n",
    "# NOTE: Uncomment if using polynomial\n",
    "# y_labels = [\"a0\", \"a1\", \"a2\", \"a3\", \"a4\", \"a5\", \"d\"]\n",
    "\n",
    "# NOTE: Uncomment if using markers\n",
    "y_labels = [\"M1X\", \"M1Y\", \"M2X\", \"M2Y\", \"M3X\", \"M3Y\",\n",
    "            \"M4X\", \"M4Y\", \"M5X\", \"M5Y\", \"M6X\", \"M6Y\",\n",
    "            \"M7X\", \"M7Y\", \"M8X\", \"M8Y\", \"M9X\", \"M9Y\",\n",
    "            \"M10X\", \"M10Y\"]\n",
    "\n",
    "def normalize_columns(df, col_list):\n",
    "    min_vals = []\n",
    "    max_vals = []\n",
    "    for c in col_list:\n",
    "        min_val = df[c].min()\n",
    "        max_val = df[c].max()\n",
    "        min_vals.append(min_val)\n",
    "        max_vals.append(max_val)\n",
    "        df[c] = (df[c] - min_val) / (max_val - min_val)\n",
    "    return min_vals, max_vals\n",
    "        \n",
    "x_mins, x_maxes = normalize_columns(all_df, x_labels)\n",
    "y_mins, y_maxes = normalize_columns(all_df, y_labels)"
   ]
  },
  {
   "cell_type": "code",
   "execution_count": 5,
   "metadata": {},
   "outputs": [],
   "source": [
    "# Prepare data for DNN\n",
    "# shuffle the rows\n",
    "#train_df = all_df.sample(frac=0.8, random_state=25)\n",
    "#test_df = all_df.drop(train_df.index)\n",
    "\n",
    "x_dim = len(x_labels)\n",
    "y_dim = len(y_labels)\n",
    "\n",
    "x_data = all_df[x_labels]\n",
    "y_data = all_df[y_labels]\n",
    "\n",
    "x_data_shuffled, y_data_shuffled = sklearn.utils.shuffle(x_data, y_data)\n",
    "\n",
    "split = int(0.8 * len(x_data))\n",
    "\n",
    "x_train = x_data_shuffled[:split]\n",
    "y_train = y_data_shuffled[:split]\n",
    "\n",
    "x_test = x_data_shuffled[split:]\n",
    "y_test = y_data_shuffled[split:]"
   ]
  },
  {
   "cell_type": "code",
   "execution_count": 7,
   "metadata": {},
   "outputs": [
    {
     "name": "stdout",
     "output_type": "stream",
     "text": [
      "(4895, 4)\n",
      "(1224, 4)\n",
      "(4895, 20)\n",
      "(1224, 20)\n"
     ]
    }
   ],
   "source": [
    "print(x_train.shape)\n",
    "print(x_test.shape)\n",
    "print(y_train.shape)\n",
    "print(y_test.shape)"
   ]
  },
  {
   "cell_type": "markdown",
   "metadata": {},
   "source": [
    "# DNN"
   ]
  },
  {
   "cell_type": "code",
   "execution_count": 8,
   "metadata": {},
   "outputs": [
    {
     "name": "stdout",
     "output_type": "stream",
     "text": [
      "Model: \"sequential\"\n",
      "_________________________________________________________________\n",
      "Layer (type)                 Output Shape              Param #   \n",
      "=================================================================\n",
      "dense (Dense)                (None, 64)                320       \n",
      "_________________________________________________________________\n",
      "dropout (Dropout)            (None, 64)                0         \n",
      "_________________________________________________________________\n",
      "dense_1 (Dense)              (None, 32)                2080      \n",
      "_________________________________________________________________\n",
      "dropout_1 (Dropout)          (None, 32)                0         \n",
      "_________________________________________________________________\n",
      "dense_2 (Dense)              (None, 16)                528       \n",
      "_________________________________________________________________\n",
      "dropout_2 (Dropout)          (None, 16)                0         \n",
      "_________________________________________________________________\n",
      "dense_3 (Dense)              (None, 20)                340       \n",
      "=================================================================\n",
      "Total params: 3,268\n",
      "Trainable params: 3,268\n",
      "Non-trainable params: 0\n",
      "_________________________________________________________________\n"
     ]
    }
   ],
   "source": [
    "model = Sequential()\n",
    "model.add(Dense(64 , input_dim=x_dim, activation='relu'))\n",
    "model.add(Dropout(0.2))\n",
    "model.add(Dense(32, input_dim=16, activation='relu'))\n",
    "model.add(Dropout(0.2))\n",
    "model.add(Dense(16, activation='relu'))\n",
    "model.add(Dropout(0.2))\n",
    "model.add(Dense(y_dim, activation='relu'))\n",
    "model.compile(loss='mse', optimizer='adam', metrics=['accuracy'])\n",
    "model.summary()"
   ]
  },
  {
   "cell_type": "code",
   "execution_count": 9,
   "metadata": {
    "scrolled": true
   },
   "outputs": [
    {
     "name": "stdout",
     "output_type": "stream",
     "text": [
      "Epoch 1/100\n",
      "612/612 [==============================] - 1s 411us/step - loss: 0.0887 - accuracy: 0.1416\n",
      "Epoch 2/100\n",
      "612/612 [==============================] - 0s 407us/step - loss: 0.0221 - accuracy: 0.2766\n",
      "Epoch 3/100\n",
      "612/612 [==============================] - 0s 407us/step - loss: 0.0168 - accuracy: 0.3190\n",
      "Epoch 4/100\n",
      "612/612 [==============================] - 0s 410us/step - loss: 0.0156 - accuracy: 0.3862\n",
      "Epoch 5/100\n",
      "612/612 [==============================] - 0s 402us/step - loss: 0.0139 - accuracy: 0.4251\n",
      "Epoch 6/100\n",
      "612/612 [==============================] - 0s 403us/step - loss: 0.0135 - accuracy: 0.4457\n",
      "Epoch 7/100\n",
      "612/612 [==============================] - 0s 419us/step - loss: 0.0130 - accuracy: 0.4711\n",
      "Epoch 8/100\n",
      "612/612 [==============================] - 0s 414us/step - loss: 0.0127 - accuracy: 0.4882\n",
      "Epoch 9/100\n",
      "612/612 [==============================] - 0s 409us/step - loss: 0.0122 - accuracy: 0.4796\n",
      "Epoch 10/100\n",
      "612/612 [==============================] - 0s 414us/step - loss: 0.0118 - accuracy: 0.5089\n",
      "Epoch 11/100\n",
      "612/612 [==============================] - 0s 406us/step - loss: 0.0114 - accuracy: 0.4908\n",
      "Epoch 12/100\n",
      "612/612 [==============================] - 0s 410us/step - loss: 0.0115 - accuracy: 0.4994\n",
      "Epoch 13/100\n",
      "612/612 [==============================] - 0s 413us/step - loss: 0.0114 - accuracy: 0.5206\n",
      "Epoch 14/100\n",
      "612/612 [==============================] - 0s 414us/step - loss: 0.0111 - accuracy: 0.5303\n",
      "Epoch 15/100\n",
      "612/612 [==============================] - 0s 404us/step - loss: 0.0108 - accuracy: 0.5277\n",
      "Epoch 16/100\n",
      "612/612 [==============================] - 0s 407us/step - loss: 0.0104 - accuracy: 0.5271\n",
      "Epoch 17/100\n",
      "612/612 [==============================] - 0s 413us/step - loss: 0.0104 - accuracy: 0.5316\n",
      "Epoch 18/100\n",
      "612/612 [==============================] - 0s 404us/step - loss: 0.0104 - accuracy: 0.5286\n",
      "Epoch 19/100\n",
      "612/612 [==============================] - 0s 410us/step - loss: 0.0100 - accuracy: 0.5330\n",
      "Epoch 20/100\n",
      "612/612 [==============================] - 0s 403us/step - loss: 0.0100 - accuracy: 0.5315\n",
      "Epoch 21/100\n",
      "612/612 [==============================] - 0s 408us/step - loss: 0.0100 - accuracy: 0.5267\n",
      "Epoch 22/100\n",
      "612/612 [==============================] - 0s 406us/step - loss: 0.0101 - accuracy: 0.5490\n",
      "Epoch 23/100\n",
      "612/612 [==============================] - 0s 419us/step - loss: 0.0097 - accuracy: 0.5569\n",
      "Epoch 24/100\n",
      "612/612 [==============================] - 0s 414us/step - loss: 0.0101 - accuracy: 0.5587\n",
      "Epoch 25/100\n",
      "612/612 [==============================] - 0s 410us/step - loss: 0.0094 - accuracy: 0.5423\n",
      "Epoch 26/100\n",
      "612/612 [==============================] - 0s 406us/step - loss: 0.0097 - accuracy: 0.5390\n",
      "Epoch 27/100\n",
      "612/612 [==============================] - 0s 406us/step - loss: 0.0091 - accuracy: 0.5534\n",
      "Epoch 28/100\n",
      "612/612 [==============================] - 0s 413us/step - loss: 0.0095 - accuracy: 0.5514\n",
      "Epoch 29/100\n",
      "612/612 [==============================] - 0s 408us/step - loss: 0.0091 - accuracy: 0.5391\n",
      "Epoch 30/100\n",
      "612/612 [==============================] - 0s 410us/step - loss: 0.0092 - accuracy: 0.5614\n",
      "Epoch 31/100\n",
      "612/612 [==============================] - 0s 413us/step - loss: 0.0094 - accuracy: 0.5553\n",
      "Epoch 32/100\n",
      "612/612 [==============================] - 0s 405us/step - loss: 0.0092 - accuracy: 0.5577\n",
      "Epoch 33/100\n",
      "612/612 [==============================] - 0s 415us/step - loss: 0.0094 - accuracy: 0.5645\n",
      "Epoch 34/100\n",
      "612/612 [==============================] - 0s 408us/step - loss: 0.0090 - accuracy: 0.5564\n",
      "Epoch 35/100\n",
      "612/612 [==============================] - 0s 419us/step - loss: 0.0091 - accuracy: 0.5490\n",
      "Epoch 36/100\n",
      "612/612 [==============================] - 0s 405us/step - loss: 0.0088 - accuracy: 0.5547\n",
      "Epoch 37/100\n",
      "612/612 [==============================] - 0s 415us/step - loss: 0.0088 - accuracy: 0.5510\n",
      "Epoch 38/100\n",
      "612/612 [==============================] - 0s 423us/step - loss: 0.0086 - accuracy: 0.5502\n",
      "Epoch 39/100\n",
      "612/612 [==============================] - 0s 412us/step - loss: 0.0086 - accuracy: 0.5635\n",
      "Epoch 40/100\n",
      "612/612 [==============================] - 0s 413us/step - loss: 0.0090 - accuracy: 0.5454\n",
      "Epoch 41/100\n",
      "612/612 [==============================] - 0s 420us/step - loss: 0.0085 - accuracy: 0.5438\n",
      "Epoch 42/100\n",
      "612/612 [==============================] - 0s 421us/step - loss: 0.0084 - accuracy: 0.5423\n",
      "Epoch 43/100\n",
      "612/612 [==============================] - 0s 416us/step - loss: 0.0084 - accuracy: 0.5424\n",
      "Epoch 44/100\n",
      "612/612 [==============================] - 0s 407us/step - loss: 0.0079 - accuracy: 0.5587\n",
      "Epoch 45/100\n",
      "612/612 [==============================] - 0s 418us/step - loss: 0.0084 - accuracy: 0.5477\n",
      "Epoch 46/100\n",
      "612/612 [==============================] - 0s 411us/step - loss: 0.0081 - accuracy: 0.5717\n",
      "Epoch 47/100\n",
      "612/612 [==============================] - 0s 407us/step - loss: 0.0083 - accuracy: 0.5461\n",
      "Epoch 48/100\n",
      "612/612 [==============================] - 0s 412us/step - loss: 0.0080 - accuracy: 0.5512\n",
      "Epoch 49/100\n",
      "612/612 [==============================] - 0s 405us/step - loss: 0.0081 - accuracy: 0.5494\n",
      "Epoch 50/100\n",
      "612/612 [==============================] - 0s 414us/step - loss: 0.0076 - accuracy: 0.5675\n",
      "Epoch 51/100\n",
      "612/612 [==============================] - 0s 403us/step - loss: 0.0083 - accuracy: 0.5346\n",
      "Epoch 52/100\n",
      "612/612 [==============================] - 0s 412us/step - loss: 0.0078 - accuracy: 0.5544\n",
      "Epoch 53/100\n",
      "612/612 [==============================] - 0s 408us/step - loss: 0.0077 - accuracy: 0.5453\n",
      "Epoch 54/100\n",
      "612/612 [==============================] - 0s 407us/step - loss: 0.0079 - accuracy: 0.5494\n",
      "Epoch 55/100\n",
      "612/612 [==============================] - 0s 409us/step - loss: 0.0077 - accuracy: 0.5531\n",
      "Epoch 56/100\n",
      "612/612 [==============================] - 0s 407us/step - loss: 0.0076 - accuracy: 0.5736\n",
      "Epoch 57/100\n",
      "612/612 [==============================] - 0s 418us/step - loss: 0.0079 - accuracy: 0.5602\n",
      "Epoch 58/100\n",
      "612/612 [==============================] - 0s 403us/step - loss: 0.0083 - accuracy: 0.5485\n",
      "Epoch 59/100\n",
      "612/612 [==============================] - 0s 411us/step - loss: 0.0078 - accuracy: 0.5577\n",
      "Epoch 60/100\n",
      "612/612 [==============================] - 0s 408us/step - loss: 0.0077 - accuracy: 0.5547\n",
      "Epoch 61/100\n",
      "612/612 [==============================] - 0s 415us/step - loss: 0.0078 - accuracy: 0.5448\n",
      "Epoch 62/100\n",
      "612/612 [==============================] - 0s 409us/step - loss: 0.0076 - accuracy: 0.5514\n",
      "Epoch 63/100\n",
      "612/612 [==============================] - 0s 417us/step - loss: 0.0076 - accuracy: 0.5631\n",
      "Epoch 64/100\n",
      "612/612 [==============================] - 0s 409us/step - loss: 0.0078 - accuracy: 0.5498\n",
      "Epoch 65/100\n",
      "612/612 [==============================] - 0s 418us/step - loss: 0.0072 - accuracy: 0.5566\n",
      "Epoch 66/100\n",
      "612/612 [==============================] - 0s 407us/step - loss: 0.0072 - accuracy: 0.5541\n",
      "Epoch 67/100\n",
      "612/612 [==============================] - 0s 405us/step - loss: 0.0075 - accuracy: 0.5606\n",
      "Epoch 68/100\n",
      "612/612 [==============================] - 0s 404us/step - loss: 0.0075 - accuracy: 0.5608\n",
      "Epoch 69/100\n",
      "612/612 [==============================] - 0s 407us/step - loss: 0.0076 - accuracy: 0.5505\n",
      "Epoch 70/100\n",
      "612/612 [==============================] - 0s 406us/step - loss: 0.0075 - accuracy: 0.5528\n",
      "Epoch 71/100\n",
      "612/612 [==============================] - 0s 414us/step - loss: 0.0073 - accuracy: 0.5615\n",
      "Epoch 72/100\n",
      "612/612 [==============================] - 0s 409us/step - loss: 0.0076 - accuracy: 0.5480\n",
      "Epoch 73/100\n",
      "612/612 [==============================] - 0s 409us/step - loss: 0.0076 - accuracy: 0.5697\n",
      "Epoch 74/100\n",
      "612/612 [==============================] - 0s 418us/step - loss: 0.0071 - accuracy: 0.5557\n",
      "Epoch 75/100\n",
      "612/612 [==============================] - 0s 410us/step - loss: 0.0071 - accuracy: 0.5632\n",
      "Epoch 76/100\n",
      "612/612 [==============================] - 0s 402us/step - loss: 0.0073 - accuracy: 0.5578\n",
      "Epoch 77/100\n",
      "612/612 [==============================] - 0s 408us/step - loss: 0.0075 - accuracy: 0.5526\n",
      "Epoch 78/100\n",
      "612/612 [==============================] - 0s 417us/step - loss: 0.0071 - accuracy: 0.5590\n",
      "Epoch 79/100\n"
     ]
    },
    {
     "name": "stdout",
     "output_type": "stream",
     "text": [
      "612/612 [==============================] - 0s 406us/step - loss: 0.0070 - accuracy: 0.5636\n",
      "Epoch 80/100\n",
      "612/612 [==============================] - 0s 405us/step - loss: 0.0075 - accuracy: 0.5674\n",
      "Epoch 81/100\n",
      "612/612 [==============================] - 0s 404us/step - loss: 0.0072 - accuracy: 0.5533\n",
      "Epoch 82/100\n",
      "612/612 [==============================] - 0s 403us/step - loss: 0.0069 - accuracy: 0.5399\n",
      "Epoch 83/100\n",
      "612/612 [==============================] - 0s 403us/step - loss: 0.0071 - accuracy: 0.5588\n",
      "Epoch 84/100\n",
      "612/612 [==============================] - 0s 409us/step - loss: 0.0075 - accuracy: 0.5393\n",
      "Epoch 85/100\n",
      "612/612 [==============================] - 0s 406us/step - loss: 0.0072 - accuracy: 0.5620\n",
      "Epoch 86/100\n",
      "612/612 [==============================] - 0s 417us/step - loss: 0.0065 - accuracy: 0.5730\n",
      "Epoch 87/100\n",
      "612/612 [==============================] - 0s 409us/step - loss: 0.0071 - accuracy: 0.5524\n",
      "Epoch 88/100\n",
      "612/612 [==============================] - 0s 412us/step - loss: 0.0070 - accuracy: 0.5546\n",
      "Epoch 89/100\n",
      "612/612 [==============================] - 0s 424us/step - loss: 0.0072 - accuracy: 0.5499\n",
      "Epoch 90/100\n",
      "612/612 [==============================] - 0s 405us/step - loss: 0.0067 - accuracy: 0.5704\n",
      "Epoch 91/100\n",
      "612/612 [==============================] - 0s 405us/step - loss: 0.0066 - accuracy: 0.5862\n",
      "Epoch 92/100\n",
      "612/612 [==============================] - 0s 417us/step - loss: 0.0071 - accuracy: 0.5833\n",
      "Epoch 93/100\n",
      "612/612 [==============================] - 0s 411us/step - loss: 0.0067 - accuracy: 0.5541\n",
      "Epoch 94/100\n",
      "612/612 [==============================] - 0s 416us/step - loss: 0.0070 - accuracy: 0.5598\n",
      "Epoch 95/100\n",
      "612/612 [==============================] - 0s 406us/step - loss: 0.0068 - accuracy: 0.5719\n",
      "Epoch 96/100\n",
      "612/612 [==============================] - 0s 403us/step - loss: 0.0068 - accuracy: 0.5677\n",
      "Epoch 97/100\n",
      "612/612 [==============================] - 0s 406us/step - loss: 0.0068 - accuracy: 0.5608\n",
      "Epoch 98/100\n",
      "612/612 [==============================] - 0s 407us/step - loss: 0.0066 - accuracy: 0.5584\n",
      "Epoch 99/100\n",
      "612/612 [==============================] - 0s 405us/step - loss: 0.0072 - accuracy: 0.5574\n",
      "Epoch 100/100\n",
      "612/612 [==============================] - 0s 410us/step - loss: 0.0070 - accuracy: 0.5480\n"
     ]
    }
   ],
   "source": [
    "history = model.fit(x_train, y_train, epochs=100, batch_size=8)"
   ]
  },
  {
   "cell_type": "code",
   "execution_count": 10,
   "metadata": {},
   "outputs": [
    {
     "name": "stdout",
     "output_type": "stream",
     "text": [
      "39/39 [==============================] - 0s 345us/step - loss: 0.0032 - accuracy: 0.6250\n",
      "Loss: 0.00322711, Accuracy: 62.50\n"
     ]
    }
   ],
   "source": [
    "loss, accuracy = model.evaluate(x_test, y_test)\n",
    "print('Loss: %.8f, Accuracy: %.2f' % (loss, (accuracy*100)))"
   ]
  },
  {
   "cell_type": "code",
   "execution_count": 35,
   "metadata": {},
   "outputs": [],
   "source": [
    "pickle.dump(history.history[\"loss\"], open(\"objects/dnn_loss.p\", \"wb\"))"
   ]
  },
  {
   "cell_type": "code",
   "execution_count": 11,
   "metadata": {},
   "outputs": [],
   "source": [
    "def rescale_output(y):\n",
    "    ret = []\n",
    "    for i in range(len(y)):\n",
    "        max_val = y_maxes[i]\n",
    "        min_val = y_mins[i]\n",
    "        val = y[i]\n",
    "        rescaled_val = (val * (max_val - min_val)) + min_val\n",
    "        ret.append(rescaled_val)\n",
    "    return np.array(ret)"
   ]
  },
  {
   "cell_type": "code",
   "execution_count": 37,
   "metadata": {},
   "outputs": [
    {
     "name": "stderr",
     "output_type": "stream",
     "text": [
      "Widget Javascript not detected.  It may not be installed or enabled properly.\n"
     ]
    },
    {
     "data": {
      "application/vnd.jupyter.widget-view+json": {
       "model_id": "d588a53fea0640bf99c266b6881b390a"
      }
     },
     "metadata": {},
     "output_type": "display_data"
    },
    {
     "data": {
      "text/plain": [
       "<function __main__.evaluate_poly(idx=(0, 1223, 1))>"
      ]
     },
     "execution_count": 37,
     "metadata": {},
     "output_type": "execute_result"
    }
   ],
   "source": [
    "num_tests = len(x_test)\n",
    "def evaluate_poly(idx=(0,num_tests-1,1)):\n",
    "    index = x_test.index[idx]\n",
    "    x_select = np.array(x_test.loc[index, :]).reshape(1, -1)\n",
    "    y_pred = model.predict(x_select)\n",
    "    y_pred = rescale_output(y_pred[0])\n",
    "    a_pred = np.flip(y_pred[:-1])\n",
    "    d_pred = y_pred[-1]\n",
    "    \n",
    "    y_select = np.array(y_test.loc[index, :]).reshape(1, -1)\n",
    "    y_select = rescale_output(y_select[0])\n",
    "    a_select = np.flip(y_select[:-1])\n",
    "    d_select = y_select[-1]\n",
    "    \n",
    "    print(d_pred, d_select)\n",
    "    \n",
    "    poly_pred = np.poly1d(a_pred)\n",
    "    poly_select = np.poly1d(a_select)\n",
    "    \n",
    "    yp = np.linspace(0, d_pred)\n",
    "    xp = poly_pred(yp)\n",
    "    \n",
    "    ys = np.linspace(0, d_select)\n",
    "    xs = poly_select(ys)\n",
    "    \n",
    "    plt.plot(xs, ys, label=\"actual\")\n",
    "    plt.plot(xp, yp, label=\"predicted\")\n",
    "    plt.xlim([-20,20])\n",
    "    plt.ylim([-1,39])\n",
    "    plt.xlabel(\"x (cm)\")\n",
    "    plt.ylabel(\"y (cm)\")\n",
    "    plt.legend()\n",
    "    plt.title(\"Predicted Shape vs. Actual Shape\")\n",
    "    plt.show()\n",
    "    \n",
    "\n",
    "interact(evaluate_poly)"
   ]
  },
  {
   "cell_type": "code",
   "execution_count": 15,
   "metadata": {},
   "outputs": [
    {
     "name": "stderr",
     "output_type": "stream",
     "text": [
      "Widget Javascript not detected.  It may not be installed or enabled properly.\n"
     ]
    },
    {
     "data": {
      "application/vnd.jupyter.widget-view+json": {
       "model_id": "056a483e3f5f4061b4dad3bf6677340a"
      }
     },
     "metadata": {},
     "output_type": "display_data"
    },
    {
     "data": {
      "text/plain": [
       "<function __main__.evaluate_poly(idx=(0, 1223, 1))>"
      ]
     },
     "execution_count": 15,
     "metadata": {},
     "output_type": "execute_result"
    }
   ],
   "source": [
    "num_tests = len(x_test)\n",
    "def evaluate_markers(idx=(0,num_tests-1,1)):\n",
    "    index = x_test.index[idx]\n",
    "    x_select = np.array(x_test.loc[index, :]).reshape(1, -1)\n",
    "    y_pred = model.predict(x_select)\n",
    "    y_pred = rescale_output(y_pred[0])\n",
    "    \n",
    "    y_select = np.array(y_test.loc[index, :]).reshape(1, -1)\n",
    "    y_select = rescale_output(y_select[0])\n",
    "    \n",
    "    num_markers = int(len(y_pred) / 2)\n",
    "    \n",
    "    x_coord_select = [0]\n",
    "    y_coord_select = [0]\n",
    "    x_coord_pred = [0]\n",
    "    y_coord_pred = [0]\n",
    "    \n",
    "    for i in range(num_markers):\n",
    "        x_idx = i * 2\n",
    "        y_idx = (i * 2) + 1\n",
    "        x_coord_select.append(y_select[x_idx])\n",
    "        y_coord_select.append(y_select[y_idx])\n",
    "        x_coord_pred.append(y_pred[x_idx])\n",
    "        y_coord_pred.append(y_pred[y_idx])\n",
    "    \n",
    "    plt.plot(x_coord_select, y_coord_select, \"-o\", label=\"actual\")\n",
    "    plt.plot(x_coord_pred, y_coord_pred, \"-o\", label=\"predicted\")\n",
    "    plt.xlim([-20,20])\n",
    "    plt.ylim([-1,39])\n",
    "    plt.xlabel(\"x (cm)\")\n",
    "    plt.ylabel(\"y (cm)\")\n",
    "    plt.legend()\n",
    "    plt.title(\"Predicted Markers vs. Actual Markers\")\n",
    "    plt.show()\n",
    "        \n",
    "        \n",
    "interact(evaluate_markers)"
   ]
  },
  {
   "cell_type": "code",
   "execution_count": 149,
   "metadata": {},
   "outputs": [
    {
     "name": "stdout",
     "output_type": "stream",
     "text": [
      "INFO:tensorflow:Assets written to: ./models/first_model/assets\n"
     ]
    }
   ],
   "source": [
    "model.save(\"./models/first_model\")"
   ]
  },
  {
   "cell_type": "code",
   "execution_count": null,
   "metadata": {},
   "outputs": [],
   "source": [
    "# First model tried\n",
    "model = Sequential()\n",
    "model.add(Dense(12, input_dim=x_dim, activation='relu'))\n",
    "model.add(Dense(8, activation='relu'))\n",
    "model.add(Dense(y_dim, activation='linear'))\n",
    "model.compile(loss='mse', optimizer='adam', metrics=['accuracy'])"
   ]
  },
  {
   "cell_type": "code",
   "execution_count": null,
   "metadata": {},
   "outputs": [],
   "source": []
  },
  {
   "cell_type": "code",
   "execution_count": null,
   "metadata": {},
   "outputs": [],
   "source": []
  },
  {
   "cell_type": "code",
   "execution_count": null,
   "metadata": {},
   "outputs": [],
   "source": []
  },
  {
   "cell_type": "code",
   "execution_count": null,
   "metadata": {},
   "outputs": [],
   "source": []
  },
  {
   "cell_type": "code",
   "execution_count": null,
   "metadata": {},
   "outputs": [],
   "source": []
  },
  {
   "cell_type": "code",
   "execution_count": null,
   "metadata": {},
   "outputs": [],
   "source": []
  },
  {
   "cell_type": "code",
   "execution_count": null,
   "metadata": {},
   "outputs": [],
   "source": []
  },
  {
   "cell_type": "code",
   "execution_count": null,
   "metadata": {},
   "outputs": [],
   "source": []
  }
 ],
 "metadata": {
  "kernelspec": {
   "display_name": "Python 3",
   "language": "python",
   "name": "python3"
  },
  "language_info": {
   "codemirror_mode": {
    "name": "ipython",
    "version": 3
   },
   "file_extension": ".py",
   "mimetype": "text/x-python",
   "name": "python",
   "nbconvert_exporter": "python",
   "pygments_lexer": "ipython3",
   "version": "3.8.10"
  }
 },
 "nbformat": 4,
 "nbformat_minor": 4
}
