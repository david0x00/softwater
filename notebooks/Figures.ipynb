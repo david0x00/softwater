{
 "cells": [
  {
   "cell_type": "code",
   "execution_count": 62,
   "metadata": {},
   "outputs": [],
   "source": [
    "import pandas as pd\n",
    "import numpy as np\n",
    "from matplotlib import pyplot as plt\n",
    "from ipywidgets import interact\n",
    "from matplotlib import cm\n",
    "from matplotlib.colors import ListedColormap, LinearSegmentedColormap\n",
    "plt.rcParams['figure.dpi'] = 200"
   ]
  },
  {
   "cell_type": "code",
   "execution_count": 3,
   "metadata": {},
   "outputs": [],
   "source": [
    "file_headers = [\"/media/user1/Data 2000/soft_robotics_experiments/training_data/round_1/module1_fullext1\",\n",
    "                \"/media/user1/Data 2000/soft_robotics_experiments/training_data/round_1/module1_fullext2\",\n",
    "                \"/media/user1/Data 2000/soft_robotics_experiments/training_data/round_1/module1_fullext3\",\n",
    "                \"/media/user1/Data 2000/soft_robotics_experiments/training_data/round_1/module1_fullext4\",\n",
    "                \"/media/user1/Data 2000/soft_robotics_experiments/training_data/round_1/module2_fullext1\",\n",
    "                \"/media/user1/Data 2000/soft_robotics_experiments/training_data/round_1/module2_fullext2\",\n",
    "                \"/media/user1/Data 2000/soft_robotics_experiments/training_data/round_1/module2_fullext3\",\n",
    "                \"/media/user1/Data 2000/soft_robotics_experiments/training_data/round_1/module2_fullext4\",\n",
    "                \"/media/user1/Data 2000/soft_robotics_experiments/training_data/round_1/s_curve1\",\n",
    "                \"/media/user1/Data 2000/soft_robotics_experiments/training_data/round_1/s_curve2\"]\n",
    "\n",
    "CSV_SFX = \".csv\"\n",
    "MARKERS_SFX = \"_markers\"\n",
    "POLY_SFX = \"_poly\"\n",
    "M10Y = \"M10Y\""
   ]
  },
  {
   "cell_type": "code",
   "execution_count": 6,
   "metadata": {},
   "outputs": [],
   "source": [
    "data_list = []\n",
    "marker_list = []\n",
    "poly_list = []\n",
    "\n",
    "TIME_STEPS = 128\n",
    "SAMPLE_STEPS = 4\n",
    "\n",
    "x_labels = [\"M1-PL\", \"M1-PR\", \"M2-PL\", \"M2-PR\"]\n",
    "y_labels = [\"a0\", \"a1\", \"a2\", \"a3\", \"a4\", \"a5\", \"d\"]\n",
    "\n",
    "INPUT_DIM = len(x_labels)\n",
    "OUTPUT_DIM = len(y_labels)\n",
    "\n",
    "def get_index_groups(df):\n",
    "    return poly_df.groupby(poly_df.index.to_series().diff().ne(1).cumsum()).groups\n",
    "\n",
    "def expand_time_steps(data, time_steps, sample_steps):\n",
    "    entries = data.shape[0] - time_steps + 1\n",
    "    rows = int(time_steps / sample_steps)\n",
    "    cols = data.shape[1]\n",
    "    new_arr = np.zeros((entries, rows, cols))\n",
    "    for i in range(data.shape[0] - time_steps + 1):\n",
    "        full_arr = data.iloc[i:i + time_steps].to_numpy()\n",
    "        new_arr[i, :, :] = full_arr[sample_steps - 1::sample_steps]\n",
    "    return new_arr"
   ]
  },
  {
   "cell_type": "code",
   "execution_count": 7,
   "metadata": {},
   "outputs": [],
   "source": [
    "for header in file_headers:\n",
    "    data_file = header + CSV_SFX\n",
    "    marker_file = header + MARKERS_SFX + CSV_SFX\n",
    "    poly_file = header + POLY_SFX + CSV_SFX\n",
    "    \n",
    "    data_df = pd.read_csv(data_file)\n",
    "    marker_df = pd.read_csv(marker_file)\n",
    "    poly_df = pd.read_csv(poly_file)\n",
    "    \n",
    "    # NOTE: Handle when the robot goes out of frame.\n",
    "    zero_indices = list(marker_df[marker_df[M10Y] == 0].index)\n",
    "    \n",
    "    data_df = data_df.drop(data_df.index[zero_indices])\n",
    "    marker_df = marker_df.drop(marker_df.index[zero_indices])\n",
    "    poly_df = poly_df.drop(poly_df.index[zero_indices])\n",
    "    \n",
    "    data_list.append(data_df)\n",
    "    marker_list.append(marker_df)\n",
    "    poly_list.append(poly_df)"
   ]
  },
  {
   "cell_type": "markdown",
   "metadata": {},
   "source": [
    "# Multiple Paths Examples"
   ]
  },
  {
   "cell_type": "code",
   "execution_count": 23,
   "metadata": {},
   "outputs": [
    {
     "data": {
      "text/plain": [
       "array([ 2.66886320e+01, -9.89689346e-07,  5.55086110e-05, -6.80716479e-04,\n",
       "       -1.30380930e-02,  2.64394725e-02, -9.70419710e-03])"
      ]
     },
     "execution_count": 23,
     "metadata": {},
     "output_type": "execute_result"
    }
   ],
   "source": [
    "file_idx = 9\n",
    "data_df = data_list[file_idx]\n",
    "marker_df = marker_list[file_idx]\n",
    "poly_df = poly_list[file_idx]\n",
    "\n",
    "poly_sample = poly_df.sample(frac=0.05)\n",
    "\n",
    "a_coeff = np.flip(poly_sample.iloc[0].to_numpy())\n",
    "\n"
   ]
  },
  {
   "cell_type": "markdown",
   "metadata": {},
   "source": [
    "# Same Pressures Different Shapes"
   ]
  },
  {
   "cell_type": "code",
   "execution_count": 52,
   "metadata": {},
   "outputs": [
    {
     "name": "stdout",
     "output_type": "stream",
     "text": [
      "855\n"
     ]
    }
   ],
   "source": [
    "DIFF = 0.2 # acceptable average difference in pressure kPa\n",
    "PROX = 100\n",
    "\n",
    "similar_pressures = {}\n",
    "used_points = []\n",
    "\n",
    "def inspect(d1, d2):\n",
    "    diff = np.abs(d1 - d2)\n",
    "    ave_diff = np.average(diff)\n",
    "    if ave_diff < DIFF:\n",
    "        return True\n",
    "    else:\n",
    "        return False\n",
    "\n",
    "for if1, df1 in enumerate(data_list):\n",
    "    for ip1, dp1 in enumerate(df1[x_labels].to_numpy()):\n",
    "        # go through every other point.\n",
    "        if (if1, ip1) not in used_points:\n",
    "            for if2, df2 in enumerate(data_list):\n",
    "                for ip2, dp2 in enumerate(df2[x_labels].to_numpy()):\n",
    "                    similar_flag = False\n",
    "                    if if1 is not if2:\n",
    "                        similar_flag = inspect(dp1, dp2)\n",
    "                    else: \n",
    "                        prox = ip1 - ip2\n",
    "                        if prox > PROX:\n",
    "                            similar_flag = inspect(dp1, dp2)\n",
    "                    if similar_flag:\n",
    "                        used_points.append(key2)\n",
    "                        key1 = (if1, ip1)\n",
    "                        key2 = (if2, ip2)\n",
    "                        if key1 in similar_pressures:\n",
    "                            similar_pressures[key1].append(key2)\n",
    "                        else:\n",
    "                            similar_pressures[key1] = []\n",
    "print(len(similar_pressures))"
   ]
  },
  {
   "cell_type": "code",
   "execution_count": 59,
   "metadata": {},
   "outputs": [
    {
     "name": "stderr",
     "output_type": "stream",
     "text": [
      "Widget Javascript not detected.  It may not be installed or enabled properly.\n"
     ]
    },
    {
     "data": {
      "application/vnd.jupyter.widget-view+json": {
       "model_id": "80a0b17bd20a4e7c9156b2de9efdc637"
      }
     },
     "metadata": {},
     "output_type": "display_data"
    },
    {
     "data": {
      "text/plain": [
       "<function __main__.similar_pressures_display(key=(1, 855, 1))>"
      ]
     },
     "execution_count": 59,
     "metadata": {},
     "output_type": "execute_result"
    }
   ],
   "source": [
    "def similar_pressures_display(key=(1,len(similar_pressures),1)):\n",
    "    start_point = list(similar_pressures.keys())[key]\n",
    "    sims = [start_point]\n",
    "    sims += similar_pressures[start_point]\n",
    "    print(start_point)\n",
    "    print(sims)\n",
    "    for dp in sims:\n",
    "        poly = poly_list[dp[0]].iloc[dp[1]]\n",
    "        a = np.flip(poly[:-1])\n",
    "        d = poly[-1]\n",
    "        poly_fit = np.poly1d(a)\n",
    "        y = np.linspace(0, d)\n",
    "        x = poly_fit(y)\n",
    "        plt.plot(x,y)\n",
    "    plt.xlim([-20,20])\n",
    "    plt.ylim([-1,39])\n",
    "    plt.show()\n",
    "interact(similar_pressures_display)"
   ]
  },
  {
   "cell_type": "code",
   "execution_count": 87,
   "metadata": {},
   "outputs": [
    {
     "name": "stderr",
     "output_type": "stream",
     "text": [
      "Widget Javascript not detected.  It may not be installed or enabled properly.\n"
     ]
    },
    {
     "data": {
      "application/vnd.jupyter.widget-view+json": {
       "model_id": "786ec07021b541cc8922c36473fe8656"
      }
     },
     "metadata": {},
     "output_type": "display_data"
    },
    {
     "data": {
      "text/plain": [
       "<function __main__.color_progression(idx=(0, 4, 1))>"
      ]
     },
     "execution_count": 87,
     "metadata": {},
     "output_type": "execute_result"
    }
   ],
   "source": [
    "similarities = [(0, 428), (1, 410), (1, 453), (3, 517)]\n",
    "similarities = [(0, 427), (1, 453), (3, 480), (3, 516)]\n",
    "similarities = [(0, 384), (1, 360), (2, 429), (3, 451), (8, 804)]\n",
    "\n",
    "def color_progression(idx=(0,len(similarities)-1,1)):\n",
    "    end = similarities[idx]\n",
    "    steps_back = 64\n",
    "    file_idx = end[0]\n",
    "    point_idx = end[1]\n",
    "    viridis = cm.get_cmap('viridis', steps_back)\n",
    "    progression = poly_list[file_idx].iloc[point_idx - steps_back:point_idx,:]\n",
    "    for p in range(len(progression)):\n",
    "        poly = progression.iloc[p]\n",
    "        a = np.flip(poly[:-1])\n",
    "        d = poly[-1]\n",
    "        poly_fit = np.poly1d(a)\n",
    "        y = np.linspace(0, d)\n",
    "        x = poly_fit(y)\n",
    "        plt.plot(x,y, color=viridis(p))\n",
    "    plt.xlim([-20,20])\n",
    "    plt.ylim([-1,39])\n",
    "    plt.show()\n",
    "interact(color_progression)"
   ]
  },
  {
   "cell_type": "code",
   "execution_count": null,
   "metadata": {},
   "outputs": [],
   "source": []
  },
  {
   "cell_type": "code",
   "execution_count": null,
   "metadata": {},
   "outputs": [],
   "source": []
  },
  {
   "cell_type": "code",
   "execution_count": null,
   "metadata": {},
   "outputs": [],
   "source": []
  },
  {
   "cell_type": "code",
   "execution_count": null,
   "metadata": {},
   "outputs": [],
   "source": []
  },
  {
   "cell_type": "code",
   "execution_count": null,
   "metadata": {},
   "outputs": [],
   "source": []
  },
  {
   "cell_type": "code",
   "execution_count": null,
   "metadata": {},
   "outputs": [],
   "source": []
  },
  {
   "cell_type": "code",
   "execution_count": null,
   "metadata": {},
   "outputs": [],
   "source": []
  },
  {
   "cell_type": "code",
   "execution_count": null,
   "metadata": {},
   "outputs": [],
   "source": []
  }
 ],
 "metadata": {
  "kernelspec": {
   "display_name": "Python 3",
   "language": "python",
   "name": "python3"
  },
  "language_info": {
   "codemirror_mode": {
    "name": "ipython",
    "version": 3
   },
   "file_extension": ".py",
   "mimetype": "text/x-python",
   "name": "python",
   "nbconvert_exporter": "python",
   "pygments_lexer": "ipython3",
   "version": "3.8.10"
  }
 },
 "nbformat": 4,
 "nbformat_minor": 4
}
