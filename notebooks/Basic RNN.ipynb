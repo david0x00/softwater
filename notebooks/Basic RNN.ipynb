{
 "cells": [
  {
   "cell_type": "code",
   "execution_count": 1,
   "metadata": {},
   "outputs": [],
   "source": [
    "import pandas as pd\n",
    "import numpy as np\n",
    "from keras.models import Sequential\n",
    "from keras.layers import LSTM, Dense, Dropout, Masking, Embedding"
   ]
  },
  {
   "cell_type": "code",
   "execution_count": 2,
   "metadata": {},
   "outputs": [],
   "source": [
    "data = pd.read_csv(\"./data/AAPL/augmentedStockData.csv\")"
   ]
  },
  {
   "cell_type": "code",
   "execution_count": 3,
   "metadata": {},
   "outputs": [],
   "source": [
    "inputs_column_set = [\"normDOW\", \"normDOM\", \"normDOY\", \"PercentP1D\", \"PercentP5D\", \"PercentP30D\"]\n",
    "labels_column_set = [\"PercentF5D\"]\n",
    "period_start = 2588\n",
    "period_end = 10098\n",
    "inputs = data[inputs_column_set][period_start:period_end]\n",
    "labels = data[labels_column_set][period_start:period_end]"
   ]
  },
  {
   "cell_type": "code",
   "execution_count": 4,
   "metadata": {},
   "outputs": [],
   "source": [
    "train_test_split = 0.85\n",
    "total_length = len(inputs)\n",
    "split_value = int(train_test_split * total_length)\n",
    "training_inputs = inputs[:split_value]\n",
    "training_labels = labels[:split_value]\n",
    "testing_inputs = inputs[split_value:]\n",
    "testing_labels = inputs[split_value:]\n",
    "training_length = len(training_inputs)\n",
    "testing_length = len(testing_inputs)\n",
    "number_of_inputs = training_inputs.shape[1]\n",
    "number_of_outputs = training_labels.shape[1]\n",
    "time_steps = 32"
   ]
  },
  {
   "cell_type": "code",
   "execution_count": 5,
   "metadata": {
    "scrolled": false
   },
   "outputs": [],
   "source": [
    "def expandTimeSteps(data, time_steps):\n",
    "    newarr = np.zeros((data.shape[0] - time_steps, time_steps, data.shape[1]))\n",
    "    for i in range(data.shape[0] - time_steps):\n",
    "        newarr[i, :, :] = data.iloc[i:i+32]\n",
    "    return newarr\n",
    "\n",
    "training_inputs = expandTimeSteps(training_inputs, time_steps)\n",
    "training_labels = training_labels[:training_inputs.shape[0]]\n",
    "testing_inputs = expandTimeSteps(testing_inputs, time_steps)\n",
    "testing_labels = testing_labels[:testing_inputs.shape[0]]"
   ]
  },
  {
   "cell_type": "code",
   "execution_count": 8,
   "metadata": {},
   "outputs": [
    {
     "name": "stdout",
     "output_type": "stream",
     "text": [
      "Model: \"sequential_1\"\n",
      "_________________________________________________________________\n",
      "Layer (type)                 Output Shape              Param #   \n",
      "=================================================================\n",
      "lstm_1 (LSTM)                (None, 2)                 72        \n",
      "_________________________________________________________________\n",
      "dropout_2 (Dropout)          (None, 2)                 0         \n",
      "_________________________________________________________________\n",
      "dense_2 (Dense)              (None, 4)                 12        \n",
      "_________________________________________________________________\n",
      "dropout_3 (Dropout)          (None, 4)                 0         \n",
      "_________________________________________________________________\n",
      "dense_3 (Dense)              (None, 1)                 5         \n",
      "=================================================================\n",
      "Total params: 89\n",
      "Trainable params: 89\n",
      "Non-trainable params: 0\n",
      "_________________________________________________________________\n"
     ]
    }
   ],
   "source": [
    "model = Sequential()\n",
    "\n",
    "model.add(LSTM(2, input_shape=(time_steps,number_of_inputs), activation='relu'))\n",
    "\n",
    "model.add(Dropout(0.5))\n",
    "\n",
    "model.add(Dense(4, activation='relu'))\n",
    "\n",
    "model.add(Dropout(0.5))\n",
    "\n",
    "model.add(Dense(number_of_outputs, activation='linear'))\n",
    "\n",
    "model.compile(optimizer='adam', loss='mean_squared_error', metrics=['accuracy'])\n",
    "\n",
    "model.summary()"
   ]
  },
  {
   "cell_type": "code",
   "execution_count": 9,
   "metadata": {},
   "outputs": [
    {
     "name": "stdout",
     "output_type": "stream",
     "text": [
      "Epoch 1/20\n",
      "199/199 [==============================] - 2s 5ms/step - loss: 0.0638 - accuracy: 0.0060 - val_loss: 0.1663 - val_accuracy: 0.0317\n",
      "Epoch 2/20\n",
      "199/199 [==============================] - 1s 4ms/step - loss: 0.0064 - accuracy: 0.0083 - val_loss: 0.1743 - val_accuracy: 0.0317\n",
      "Epoch 3/20\n",
      "199/199 [==============================] - 1s 4ms/step - loss: 0.0044 - accuracy: 0.0068 - val_loss: 0.1767 - val_accuracy: 0.0317\n",
      "Epoch 4/20\n",
      "199/199 [==============================] - 1s 4ms/step - loss: 0.0044 - accuracy: 0.0055 - val_loss: 0.1765 - val_accuracy: 0.0317\n",
      "Epoch 5/20\n",
      "199/199 [==============================] - 1s 4ms/step - loss: 0.0041 - accuracy: 0.0065 - val_loss: 0.1770 - val_accuracy: 0.0317\n",
      "Epoch 6/20\n",
      "199/199 [==============================] - 1s 4ms/step - loss: 0.0042 - accuracy: 0.0063 - val_loss: 0.1749 - val_accuracy: 0.0317\n",
      "Epoch 7/20\n",
      "199/199 [==============================] - 1s 4ms/step - loss: 0.0041 - accuracy: 0.0070 - val_loss: 0.1778 - val_accuracy: 0.0317\n",
      "Epoch 8/20\n",
      "199/199 [==============================] - 1s 4ms/step - loss: 0.0042 - accuracy: 0.0054 - val_loss: 0.1776 - val_accuracy: 0.0317\n",
      "Epoch 9/20\n",
      "199/199 [==============================] - 1s 4ms/step - loss: 0.0042 - accuracy: 0.0067 - val_loss: 0.1771 - val_accuracy: 0.0317\n",
      "Epoch 10/20\n",
      "199/199 [==============================] - 1s 4ms/step - loss: 0.0041 - accuracy: 0.0051 - val_loss: 0.1762 - val_accuracy: 0.0317\n",
      "Epoch 11/20\n",
      "199/199 [==============================] - 1s 4ms/step - loss: 0.0041 - accuracy: 0.0067 - val_loss: 0.1768 - val_accuracy: 0.0317\n",
      "Epoch 12/20\n",
      "199/199 [==============================] - 1s 4ms/step - loss: 0.0039 - accuracy: 0.0050 - val_loss: 0.1745 - val_accuracy: 0.0317\n",
      "Epoch 13/20\n",
      "199/199 [==============================] - 1s 4ms/step - loss: 0.0045 - accuracy: 0.0041 - val_loss: 0.1774 - val_accuracy: 0.0317\n",
      "Epoch 14/20\n",
      "199/199 [==============================] - 1s 4ms/step - loss: 0.0043 - accuracy: 0.0049 - val_loss: 0.1781 - val_accuracy: 0.0317\n",
      "Epoch 15/20\n",
      "199/199 [==============================] - 1s 4ms/step - loss: 0.0042 - accuracy: 0.0052 - val_loss: 0.1782 - val_accuracy: 0.0317\n",
      "Epoch 16/20\n",
      "199/199 [==============================] - 1s 4ms/step - loss: 0.0043 - accuracy: 0.0048 - val_loss: 0.1769 - val_accuracy: 0.0317\n",
      "Epoch 17/20\n",
      "199/199 [==============================] - 1s 4ms/step - loss: 0.0042 - accuracy: 0.0055 - val_loss: 0.1784 - val_accuracy: 0.0317\n",
      "Epoch 18/20\n",
      "199/199 [==============================] - 1s 4ms/step - loss: 0.0043 - accuracy: 0.0065 - val_loss: 0.1770 - val_accuracy: 0.0317\n",
      "Epoch 19/20\n",
      "199/199 [==============================] - 1s 4ms/step - loss: 0.0041 - accuracy: 0.0053 - val_loss: 0.1776 - val_accuracy: 0.0317\n",
      "Epoch 20/20\n",
      "199/199 [==============================] - 1s 4ms/step - loss: 0.0040 - accuracy: 0.0075 - val_loss: 0.1771 - val_accuracy: 0.0317\n"
     ]
    },
    {
     "data": {
      "text/plain": [
       "<tensorflow.python.keras.callbacks.History at 0x7f88e546fd90>"
      ]
     },
     "execution_count": 9,
     "metadata": {},
     "output_type": "execute_result"
    }
   ],
   "source": [
    "model.fit(training_inputs, training_labels, batch_size=32, epochs=20, validation_data=(testing_inputs, testing_labels))"
   ]
  },
  {
   "cell_type": "code",
   "execution_count": null,
   "metadata": {},
   "outputs": [],
   "source": []
  }
 ],
 "metadata": {
  "kernelspec": {
   "display_name": "Python 3",
   "language": "python",
   "name": "python3"
  },
  "language_info": {
   "codemirror_mode": {
    "name": "ipython",
    "version": 3
   },
   "file_extension": ".py",
   "mimetype": "text/x-python",
   "name": "python",
   "nbconvert_exporter": "python",
   "pygments_lexer": "ipython3",
   "version": "3.8.10"
  }
 },
 "nbformat": 4,
 "nbformat_minor": 4
}
