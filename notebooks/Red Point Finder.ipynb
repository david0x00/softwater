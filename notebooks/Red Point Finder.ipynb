{
 "cells": [
  {
   "cell_type": "code",
   "execution_count": 15,
   "metadata": {},
   "outputs": [],
   "source": [
    "import numpy as np\n",
    "from matplotlib import pyplot as plt\n",
    "from ipywidgets import interact\n",
    "import cv2\n",
    "plt.rcParams['figure.dpi'] = 200"
   ]
  },
  {
   "cell_type": "code",
   "execution_count": 29,
   "metadata": {
    "scrolled": false
   },
   "outputs": [
    {
     "name": "stderr",
     "output_type": "stream",
     "text": [
      "Widget Javascript not detected.  It may not be installed or enabled properly.\n"
     ]
    },
    {
     "data": {
      "application/vnd.jupyter.widget-view+json": {
       "model_id": "7fa6fc9a2597452cb1003cc1bfbc3939"
      }
     },
     "metadata": {},
     "output_type": "display_data"
    },
    {
     "data": {
      "text/plain": [
       "<function __main__.findThresholds(img_num=(1, 217, 1), value_down=(0, 255, 1))>"
      ]
     },
     "execution_count": 29,
     "metadata": {},
     "output_type": "execute_result"
    }
   ],
   "source": [
    "def findThresholds(img_num=(1,217,1), value_down=(0,255,1)):\n",
    "    photo_directory = \"/media/user1/Data 2000/soft_robotics_experiments/training_data/round_1/module1_fullext1\"\n",
    "    img_file = photo_directory + \"/\" + str(img_num) + \".jpg\"\n",
    "    img = cv2.imread(img_file)\n",
    "    lower = np.array([43,61,value_down])\n",
    "    upper = np.array([255,255,255])\n",
    "    hsv_img = cv2.cvtColor(img, cv2.COLOR_BGR2HSV)\n",
    "    blur_img = cv2.GaussianBlur(hsv_img, (25,25), 0)\n",
    "    red_mask = cv2.inRange(blur_img, lower, upper)\n",
    "    red_mask = cv2.erode(red_mask, None, iterations=3)\n",
    "    red_mask = cv2.dilate(red_mask, None, iterations=3)\n",
    "    plt.imshow(red_mask)\n",
    "    plt.show()\n",
    "interact(findThresholds)"
   ]
  },
  {
   "cell_type": "code",
   "execution_count": 38,
   "metadata": {},
   "outputs": [
    {
     "name": "stdout",
     "output_type": "stream",
     "text": [
      "(3, 1)\n",
      "[[-19.7566878 ]\n",
      " [  2.10372903]\n",
      " [ 33.        ]]\n"
     ]
    }
   ],
   "source": [
    "newcameramtx = np.array([\n",
    "    [1559.8905, 0, 942.619458],\n",
    "    [0, 1544.98389, 543.694259],\n",
    "    [0,0,1]\n",
    "])\n",
    "inv_camera_mtx = np.linalg.inv(newcameramtx)\n",
    "x = np.array([[8.7325],\n",
    "              [642.186],\n",
    "              [1]])\n",
    "print(x.shape)\n",
    "world_coord = np.matmul(inv_camera_mtx, x) * 33\n",
    "print(world_coord)"
   ]
  },
  {
   "cell_type": "code",
   "execution_count": null,
   "metadata": {},
   "outputs": [],
   "source": []
  }
 ],
 "metadata": {
  "kernelspec": {
   "display_name": "Python 3",
   "language": "python",
   "name": "python3"
  },
  "language_info": {
   "codemirror_mode": {
    "name": "ipython",
    "version": 3
   },
   "file_extension": ".py",
   "mimetype": "text/x-python",
   "name": "python",
   "nbconvert_exporter": "python",
   "pygments_lexer": "ipython3",
   "version": "3.8.10"
  }
 },
 "nbformat": 4,
 "nbformat_minor": 4
}
