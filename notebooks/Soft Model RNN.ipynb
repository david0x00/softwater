{
 "cells": [
  {
   "cell_type": "code",
   "execution_count": 190,
   "metadata": {},
   "outputs": [],
   "source": [
    "import pandas as pd\n",
    "import numpy as np\n",
    "import sklearn\n",
    "from keras.models import Sequential\n",
    "from keras.layers import LSTM, Dense, Dropout, Masking, Embedding\n",
    "from matplotlib import pyplot as plt\n",
    "from ipywidgets import interact\n",
    "plt.rcParams['figure.dpi'] = 200"
   ]
  },
  {
   "cell_type": "code",
   "execution_count": 191,
   "metadata": {},
   "outputs": [],
   "source": [
    "file_headers = [\"/media/user1/Data 2000/soft_robotics_experiments/training_data/round_1/module1_fullext1\",\n",
    "                \"/media/user1/Data 2000/soft_robotics_experiments/training_data/round_1/module1_fullext2\",\n",
    "                \"/media/user1/Data 2000/soft_robotics_experiments/training_data/round_1/module1_fullext3\",\n",
    "                \"/media/user1/Data 2000/soft_robotics_experiments/training_data/round_1/module1_fullext4\",\n",
    "                \"/media/user1/Data 2000/soft_robotics_experiments/training_data/round_1/module2_fullext1\",\n",
    "                \"/media/user1/Data 2000/soft_robotics_experiments/training_data/round_1/module2_fullext2\",\n",
    "                \"/media/user1/Data 2000/soft_robotics_experiments/training_data/round_1/module2_fullext3\",\n",
    "                \"/media/user1/Data 2000/soft_robotics_experiments/training_data/round_1/module2_fullext4\",\n",
    "                \"/media/user1/Data 2000/soft_robotics_experiments/training_data/round_1/s_curve1\",\n",
    "                \"/media/user1/Data 2000/soft_robotics_experiments/training_data/round_1/s_curve2\"]\n",
    "\n",
    "CSV_SFX = \".csv\"\n",
    "MARKERS_SFX = \"_markers\"\n",
    "POLY_SFX = \"_poly\"\n",
    "M10Y = \"M10Y\""
   ]
  },
  {
   "cell_type": "code",
   "execution_count": 192,
   "metadata": {},
   "outputs": [
    {
     "name": "stdout",
     "output_type": "stream",
     "text": [
      "(418, 16, 4)\n",
      "(418, 7)\n",
      "(443, 16, 4)\n",
      "(443, 7)\n",
      "(448, 16, 4)\n",
      "(448, 7)\n",
      "(555, 16, 4)\n",
      "(555, 7)\n",
      "(537, 16, 4)\n",
      "(537, 7)\n",
      "(463, 16, 4)\n",
      "(463, 7)\n",
      "(377, 16, 4)\n",
      "(377, 7)\n",
      "(394, 16, 4)\n",
      "(394, 7)\n",
      "(221, 16, 4)\n",
      "(221, 7)\n",
      "(645, 16, 4)\n",
      "(645, 7)\n",
      "(186, 16, 4)\n",
      "(186, 7)\n",
      "(676, 16, 4)\n",
      "(676, 7)\n"
     ]
    }
   ],
   "source": [
    "x_list = []\n",
    "y_list = []\n",
    "\n",
    "# The bigger the time step, the more the history. \n",
    "TIME_STEPS = 64\n",
    "SAMPLE_STEPS = 4\n",
    "\n",
    "x_labels = [\"M1-PL\", \"M1-PR\", \"M2-PL\", \"M2-PR\"]\n",
    "y_labels = [\"a0\", \"a1\", \"a2\", \"a3\", \"a4\", \"a5\", \"d\"]\n",
    "\n",
    "INPUT_DIM = len(x_labels)\n",
    "OUTPUT_DIM = len(y_labels)\n",
    "\n",
    "def get_index_groups(df):\n",
    "    return poly_df.groupby(poly_df.index.to_series().diff().ne(1).cumsum()).groups\n",
    "\n",
    "def expand_time_steps(data, time_steps, sample_steps):\n",
    "    entries = data.shape[0] - time_steps + 1\n",
    "    rows = int(time_steps / sample_steps)\n",
    "    cols = data.shape[1]\n",
    "    new_arr = np.zeros((entries, rows, cols))\n",
    "    for i in range(data.shape[0] - time_steps + 1):\n",
    "        full_arr = data.iloc[i:i + time_steps].to_numpy()\n",
    "        new_arr[i, :, :] = full_arr[sample_steps - 1::sample_steps]\n",
    "    return new_arr\n",
    "\n",
    "def normalize_2d(data):\n",
    "    min_vals = []\n",
    "    max_vals = []\n",
    "    rows = data.shape[0]\n",
    "    cols = data.shape[1]\n",
    "    for c in range(cols): \n",
    "        mx = data[0][c]\n",
    "        mn = mx\n",
    "        for r in range(rows):\n",
    "            val = data[r][c]\n",
    "            if val > mx:\n",
    "                mx = val\n",
    "            if val < mn:\n",
    "                mn = val\n",
    "        min_vals.append(mn)\n",
    "        max_vals.append(mx)\n",
    "        for r in range(rows):\n",
    "            val = data[r][c]\n",
    "            data[r][c] = (val - mn) / (mx - mn)\n",
    "    return min_vals, max_vals\n",
    "    \n",
    "def normalize_3d(data):\n",
    "    min_vals = []\n",
    "    max_vals = []\n",
    "    entries = data.shape[0]\n",
    "    rows = data.shape[1]\n",
    "    cols = data.shape[2]\n",
    "    for c in range(cols):\n",
    "        mx = data[0][0][c]\n",
    "        mn = mx\n",
    "        for e in range(entries):\n",
    "            for r in range(rows):\n",
    "                val = data[e][r][c]\n",
    "                if val > mx:\n",
    "                    mx = val\n",
    "                if val < mn:\n",
    "                    mn = val\n",
    "        min_vals.append(mn)\n",
    "        max_vals.append(mx)\n",
    "        for e in range(entries):\n",
    "            for r in range(rows):\n",
    "                val = data[e][r][c]\n",
    "                data[e][r][c] = (val - mn) / (mx - mn)\n",
    "    return min_vals, max_vals\n",
    "\n",
    "for header in file_headers:\n",
    "    data_file = header + CSV_SFX\n",
    "    marker_file = header + MARKERS_SFX + CSV_SFX\n",
    "    poly_file = header + POLY_SFX + CSV_SFX\n",
    "    \n",
    "    data_df = pd.read_csv(data_file)\n",
    "    marker_df = pd.read_csv(marker_file)\n",
    "    poly_df = pd.read_csv(poly_file)\n",
    "    \n",
    "    # NOTE: Handle when the robot goes out of frame.\n",
    "    zero_indices = list(marker_df[marker_df[M10Y] == 0].index)\n",
    "    \n",
    "    data_df = data_df.drop(data_df.index[zero_indices])\n",
    "    poly_df = poly_df.drop(poly_df.index[zero_indices])\n",
    "    \n",
    "    data_groups = get_index_groups(data_df)\n",
    "    poly_groups = get_index_groups(poly_df)\n",
    "    \n",
    "    for dg in data_groups:\n",
    "        idx_list = data_groups[dg]\n",
    "        sub_data_df = data_df.loc[idx_list[0]:idx_list[-1]+1, x_labels]\n",
    "        sub_poly_df = poly_df.loc[idx_list[0]:idx_list[-1]+1, y_labels]\n",
    "        \n",
    "        sub_data_df_exp = expand_time_steps(sub_data_df, TIME_STEPS, SAMPLE_STEPS)\n",
    "        sub_poly_df_exp = sub_poly_df[TIME_STEPS-1:]\n",
    "        \n",
    "        print(sub_data_df_exp.shape)\n",
    "        print(sub_poly_df_exp.shape)\n",
    "        \n",
    "        x_list.append(sub_data_df_exp)\n",
    "        y_list.append(sub_poly_df_exp.to_numpy())\n",
    "        \n",
    "x_data = np.concatenate(x_list, axis=0)\n",
    "y_data = np.concatenate(y_list, axis=0)\n",
    "\n",
    "x_mins, x_maxes = normalize_3d(x_data)\n",
    "y_mins, y_maxes = normalize_2d(y_data)\n",
    "\n",
    "x_data_shuffled, y_data_shuffled = sklearn.utils.shuffle(x_data, y_data)\n",
    "\n",
    "data_length = len(x_data_shuffled)\n",
    "split_percent = 0.8\n",
    "train_test_split = int(data_length * split_percent)\n",
    "\n",
    "x_train = x_data_shuffled[:train_test_split]\n",
    "y_train = y_data_shuffled[:train_test_split]\n",
    "\n",
    "x_test = x_data_shuffled[train_test_split:]\n",
    "y_test = y_data_shuffled[train_test_split:]\n",
    "\n",
    "INPUT_TIME_STEPS = x_train.shape[1]\n"
   ]
  },
  {
   "cell_type": "code",
   "execution_count": 193,
   "metadata": {},
   "outputs": [
    {
     "name": "stdout",
     "output_type": "stream",
     "text": [
      "Model: \"sequential_23\"\n",
      "_________________________________________________________________\n",
      "Layer (type)                 Output Shape              Param #   \n",
      "=================================================================\n",
      "lstm_23 (LSTM)               (None, 64)                17664     \n",
      "_________________________________________________________________\n",
      "dropout_53 (Dropout)         (None, 64)                0         \n",
      "_________________________________________________________________\n",
      "dense_55 (Dense)             (None, 64)                4160      \n",
      "_________________________________________________________________\n",
      "dropout_54 (Dropout)         (None, 64)                0         \n",
      "_________________________________________________________________\n",
      "dense_56 (Dense)             (None, 32)                2080      \n",
      "_________________________________________________________________\n",
      "dropout_55 (Dropout)         (None, 32)                0         \n",
      "_________________________________________________________________\n",
      "dense_57 (Dense)             (None, 16)                528       \n",
      "_________________________________________________________________\n",
      "dropout_56 (Dropout)         (None, 16)                0         \n",
      "_________________________________________________________________\n",
      "dense_58 (Dense)             (None, 7)                 119       \n",
      "=================================================================\n",
      "Total params: 24,551\n",
      "Trainable params: 24,551\n",
      "Non-trainable params: 0\n",
      "_________________________________________________________________\n"
     ]
    }
   ],
   "source": [
    "model = Sequential()\n",
    "#model.add(LSTM(64, input_shape=(INPUT_TIME_STEPS, INPUT_DIM), activation='relu', return_sequences=True))\n",
    "model.add(LSTM(64, input_shape=(INPUT_TIME_STEPS, INPUT_DIM), activation='relu'))\n",
    "model.add(Dropout(0.2))\n",
    "model.add(Dense(64, activation='relu'))\n",
    "model.add(Dropout(0.2))\n",
    "model.add(Dense(32, activation='relu'))\n",
    "model.add(Dropout(0.2))\n",
    "model.add(Dense(16, activation='relu'))\n",
    "model.add(Dropout(0.2))\n",
    "model.add(Dense(OUTPUT_DIM, activation='relu'))\n",
    "model.compile(optimizer='adam', loss='mean_squared_error', metrics=['accuracy'])\n",
    "model.summary()"
   ]
  },
  {
   "cell_type": "code",
   "execution_count": 200,
   "metadata": {
    "scrolled": true
   },
   "outputs": [
    {
     "name": "stdout",
     "output_type": "stream",
     "text": [
      "Epoch 1/50\n",
      "537/537 [==============================] - 1s 3ms/step - loss: 0.0032 - accuracy: 0.8149\n",
      "Epoch 2/50\n",
      "537/537 [==============================] - 1s 3ms/step - loss: 0.0032 - accuracy: 0.8231\n",
      "Epoch 3/50\n",
      "537/537 [==============================] - 1s 3ms/step - loss: 0.0031 - accuracy: 0.8212\n",
      "Epoch 4/50\n",
      "537/537 [==============================] - 1s 3ms/step - loss: 0.0031 - accuracy: 0.8191\n",
      "Epoch 5/50\n",
      "537/537 [==============================] - 1s 3ms/step - loss: 0.0032 - accuracy: 0.8159\n",
      "Epoch 6/50\n",
      "537/537 [==============================] - 1s 3ms/step - loss: 0.0032 - accuracy: 0.8121\n",
      "Epoch 7/50\n",
      "537/537 [==============================] - 1s 3ms/step - loss: 0.0030 - accuracy: 0.8184\n",
      "Epoch 8/50\n",
      "537/537 [==============================] - 1s 3ms/step - loss: 0.0032 - accuracy: 0.8140\n",
      "Epoch 9/50\n",
      "537/537 [==============================] - 1s 3ms/step - loss: 0.0032 - accuracy: 0.8212\n",
      "Epoch 10/50\n",
      "537/537 [==============================] - 2s 3ms/step - loss: 0.0033 - accuracy: 0.8275\n",
      "Epoch 11/50\n",
      "537/537 [==============================] - 2s 3ms/step - loss: 0.0033 - accuracy: 0.8226\n",
      "Epoch 12/50\n",
      "537/537 [==============================] - 1s 3ms/step - loss: 0.0032 - accuracy: 0.8189\n",
      "Epoch 13/50\n",
      "537/537 [==============================] - 1s 3ms/step - loss: 0.0031 - accuracy: 0.8224\n",
      "Epoch 14/50\n",
      "537/537 [==============================] - 1s 3ms/step - loss: 0.0033 - accuracy: 0.8172\n",
      "Epoch 15/50\n",
      "537/537 [==============================] - 1s 3ms/step - loss: 0.0030 - accuracy: 0.8182\n",
      "Epoch 16/50\n",
      "537/537 [==============================] - 1s 3ms/step - loss: 0.0031 - accuracy: 0.8193\n",
      "Epoch 17/50\n",
      "537/537 [==============================] - 2s 3ms/step - loss: 0.0031 - accuracy: 0.8212\n",
      "Epoch 18/50\n",
      "537/537 [==============================] - 1s 3ms/step - loss: 0.0032 - accuracy: 0.8238\n",
      "Epoch 19/50\n",
      "537/537 [==============================] - 1s 3ms/step - loss: 0.0031 - accuracy: 0.8247\n",
      "Epoch 20/50\n",
      "537/537 [==============================] - 1s 3ms/step - loss: 0.0030 - accuracy: 0.8191\n",
      "Epoch 21/50\n",
      "537/537 [==============================] - 1s 3ms/step - loss: 0.0032 - accuracy: 0.8217\n",
      "Epoch 22/50\n",
      "537/537 [==============================] - 1s 3ms/step - loss: 0.0032 - accuracy: 0.8217\n",
      "Epoch 23/50\n",
      "537/537 [==============================] - 1s 3ms/step - loss: 0.0031 - accuracy: 0.8266\n",
      "Epoch 24/50\n",
      "537/537 [==============================] - 2s 3ms/step - loss: 0.0031 - accuracy: 0.8145\n",
      "Epoch 25/50\n",
      "537/537 [==============================] - 1s 3ms/step - loss: 0.0031 - accuracy: 0.8273\n",
      "Epoch 26/50\n",
      "537/537 [==============================] - 1s 3ms/step - loss: 0.0031 - accuracy: 0.8166\n",
      "Epoch 27/50\n",
      "537/537 [==============================] - 1s 3ms/step - loss: 0.0031 - accuracy: 0.8161\n",
      "Epoch 28/50\n",
      "537/537 [==============================] - 1s 3ms/step - loss: 0.0032 - accuracy: 0.8221\n",
      "Epoch 29/50\n",
      "537/537 [==============================] - 1s 3ms/step - loss: 0.0030 - accuracy: 0.8166\n",
      "Epoch 30/50\n",
      "537/537 [==============================] - 1s 3ms/step - loss: 0.0031 - accuracy: 0.8133\n",
      "Epoch 31/50\n",
      "537/537 [==============================] - 1s 3ms/step - loss: 0.0032 - accuracy: 0.8063\n",
      "Epoch 32/50\n",
      "537/537 [==============================] - 1s 3ms/step - loss: 0.0030 - accuracy: 0.8184\n",
      "Epoch 33/50\n",
      "537/537 [==============================] - 2s 3ms/step - loss: 0.0031 - accuracy: 0.8196\n",
      "Epoch 34/50\n",
      "537/537 [==============================] - 1s 3ms/step - loss: 0.0032 - accuracy: 0.8196\n",
      "Epoch 35/50\n",
      "537/537 [==============================] - 1s 3ms/step - loss: 0.0032 - accuracy: 0.8172\n",
      "Epoch 36/50\n",
      "537/537 [==============================] - 2s 3ms/step - loss: 0.0035 - accuracy: 0.8156\n",
      "Epoch 37/50\n",
      "537/537 [==============================] - 1s 3ms/step - loss: 0.0032 - accuracy: 0.8261\n",
      "Epoch 38/50\n",
      "537/537 [==============================] - 2s 3ms/step - loss: 0.0031 - accuracy: 0.8205\n",
      "Epoch 39/50\n",
      "537/537 [==============================] - 2s 3ms/step - loss: 0.0031 - accuracy: 0.8210\n",
      "Epoch 40/50\n",
      "537/537 [==============================] - 2s 3ms/step - loss: 0.0031 - accuracy: 0.8198\n",
      "Epoch 41/50\n",
      "537/537 [==============================] - 2s 3ms/step - loss: 0.0030 - accuracy: 0.8217\n",
      "Epoch 42/50\n",
      "537/537 [==============================] - 1s 3ms/step - loss: 0.0030 - accuracy: 0.8254\n",
      "Epoch 43/50\n",
      "537/537 [==============================] - 1s 3ms/step - loss: 0.0032 - accuracy: 0.8133\n",
      "Epoch 44/50\n",
      "537/537 [==============================] - 2s 3ms/step - loss: 0.0031 - accuracy: 0.8317\n",
      "Epoch 45/50\n",
      "537/537 [==============================] - 1s 3ms/step - loss: 0.0032 - accuracy: 0.8282\n",
      "Epoch 46/50\n",
      "537/537 [==============================] - 2s 3ms/step - loss: 0.0031 - accuracy: 0.8287\n",
      "Epoch 47/50\n",
      "537/537 [==============================] - 2s 3ms/step - loss: 0.0031 - accuracy: 0.8233\n",
      "Epoch 48/50\n",
      "537/537 [==============================] - 1s 3ms/step - loss: 0.0031 - accuracy: 0.8184\n",
      "Epoch 49/50\n",
      "537/537 [==============================] - 1s 3ms/step - loss: 0.0031 - accuracy: 0.8240\n",
      "Epoch 50/50\n",
      "537/537 [==============================] - 1s 3ms/step - loss: 0.0032 - accuracy: 0.8226\n"
     ]
    },
    {
     "data": {
      "text/plain": [
       "<tensorflow.python.keras.callbacks.History at 0x7fadc11be370>"
      ]
     },
     "execution_count": 200,
     "metadata": {},
     "output_type": "execute_result"
    }
   ],
   "source": [
    "BATCH_SIZE = 8\n",
    "EPOCHS = 50\n",
    "model.fit(x_train, y_train, batch_size=BATCH_SIZE, epochs=EPOCHS)"
   ]
  },
  {
   "cell_type": "code",
   "execution_count": 201,
   "metadata": {},
   "outputs": [
    {
     "name": "stdout",
     "output_type": "stream",
     "text": [
      "34/34 [==============================] - 0s 1ms/step - loss: 0.0014 - accuracy: 0.8686\n"
     ]
    }
   ],
   "source": [
    "loss, accuracy = model.evaluate(x_test, y_test)"
   ]
  },
  {
   "cell_type": "code",
   "execution_count": 198,
   "metadata": {},
   "outputs": [],
   "source": [
    "def rescale_output(y):\n",
    "    ret = []\n",
    "    for i in range(len(y)):\n",
    "        max_val = y_maxes[i]\n",
    "        min_val = y_mins[i]\n",
    "        val = y[i]\n",
    "        rescaled_val = (val * (max_val - min_val)) + min_val\n",
    "        ret.append(rescaled_val)\n",
    "    return np.array(ret)"
   ]
  },
  {
   "cell_type": "code",
   "execution_count": 202,
   "metadata": {},
   "outputs": [
    {
     "name": "stderr",
     "output_type": "stream",
     "text": [
      "Widget Javascript not detected.  It may not be installed or enabled properly.\n"
     ]
    },
    {
     "data": {
      "application/vnd.jupyter.widget-view+json": {
       "model_id": "26183c88edec4f70912489a9f687e875"
      }
     },
     "metadata": {},
     "output_type": "display_data"
    },
    {
     "data": {
      "text/plain": [
       "<function __main__.evaluate_poly(idx=(0, 1072, 1))>"
      ]
     },
     "execution_count": 202,
     "metadata": {},
     "output_type": "execute_result"
    }
   ],
   "source": [
    "num_tests = len(x_test)\n",
    "def evaluate_poly(idx=(0,num_tests-1,1)):\n",
    "    x_select = np.expand_dims(x_test[idx], axis=0)\n",
    "    #x_select = np.array(x_test.loc[index, :]).reshape(1, -1)\n",
    "    y_pred = model.predict(x_select)\n",
    "    y_pred = rescale_output(y_pred[0])\n",
    "    a_pred = np.flip(y_pred[:-1])\n",
    "    d_pred = y_pred[-1]\n",
    "    \n",
    "    y_select = y_test[idx]\n",
    "    y_select = rescale_output(y_select)\n",
    "    a_select = np.flip(y_select[:-1])\n",
    "    d_select = y_select[-1]\n",
    "    \n",
    "    print(d_pred, d_select)\n",
    "    \n",
    "    poly_pred = np.poly1d(a_pred)\n",
    "    poly_select = np.poly1d(a_select)\n",
    "    \n",
    "    yp = np.linspace(0, d_pred)\n",
    "    xp = poly_pred(yp)\n",
    "    \n",
    "    ys = np.linspace(0, d_select)\n",
    "    xs = poly_select(ys)\n",
    "    \n",
    "    plt.plot(xs, ys)\n",
    "    plt.plot(xp, yp)\n",
    "    plt.xlim([-20,20])\n",
    "    plt.ylim([-1,39])\n",
    "    plt.show()\n",
    "    \n",
    "\n",
    "interact(evaluate_poly)"
   ]
  },
  {
   "cell_type": "code",
   "execution_count": 145,
   "metadata": {},
   "outputs": [
    {
     "data": {
      "text/plain": [
       "array([4, 8])"
      ]
     },
     "execution_count": 145,
     "metadata": {},
     "output_type": "execute_result"
    }
   ],
   "source": [
    "a = np.array([1,2,3,4,5,6,7,8])\n",
    "a[3::4]"
   ]
  },
  {
   "cell_type": "code",
   "execution_count": 173,
   "metadata": {},
   "outputs": [
    {
     "name": "stdout",
     "output_type": "stream",
     "text": [
      "INFO:tensorflow:Assets written to: ./models/first_rnn/assets\n"
     ]
    }
   ],
   "source": [
    "model.save(\"./models/first_rnn\")"
   ]
  },
  {
   "cell_type": "code",
   "execution_count": null,
   "metadata": {},
   "outputs": [],
   "source": []
  },
  {
   "cell_type": "code",
   "execution_count": null,
   "metadata": {},
   "outputs": [],
   "source": []
  },
  {
   "cell_type": "code",
   "execution_count": null,
   "metadata": {},
   "outputs": [],
   "source": []
  },
  {
   "cell_type": "code",
   "execution_count": null,
   "metadata": {},
   "outputs": [],
   "source": []
  },
  {
   "cell_type": "code",
   "execution_count": null,
   "metadata": {},
   "outputs": [],
   "source": []
  },
  {
   "cell_type": "code",
   "execution_count": null,
   "metadata": {},
   "outputs": [],
   "source": []
  },
  {
   "cell_type": "code",
   "execution_count": null,
   "metadata": {},
   "outputs": [],
   "source": []
  },
  {
   "cell_type": "code",
   "execution_count": null,
   "metadata": {},
   "outputs": [],
   "source": []
  },
  {
   "cell_type": "code",
   "execution_count": null,
   "metadata": {},
   "outputs": [],
   "source": []
  },
  {
   "cell_type": "code",
   "execution_count": null,
   "metadata": {},
   "outputs": [],
   "source": []
  }
 ],
 "metadata": {
  "kernelspec": {
   "display_name": "Python 3",
   "language": "python",
   "name": "python3"
  },
  "language_info": {
   "codemirror_mode": {
    "name": "ipython",
    "version": 3
   },
   "file_extension": ".py",
   "mimetype": "text/x-python",
   "name": "python",
   "nbconvert_exporter": "python",
   "pygments_lexer": "ipython3",
   "version": "3.8.10"
  }
 },
 "nbformat": 4,
 "nbformat_minor": 4
}
