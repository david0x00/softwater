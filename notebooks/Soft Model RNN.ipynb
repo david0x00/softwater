{
 "cells": [
  {
   "cell_type": "code",
   "execution_count": 1,
   "metadata": {},
   "outputs": [],
   "source": [
    "import pandas as pd\n",
    "import numpy as np\n",
    "import sklearn\n",
    "import pickle\n",
    "from keras.models import Sequential\n",
    "from keras.layers import LSTM, Dense, Dropout, Masking, Embedding\n",
    "from matplotlib import pyplot as plt\n",
    "from ipywidgets import interact\n",
    "plt.rcParams['figure.dpi'] = 200"
   ]
  },
  {
   "cell_type": "code",
   "execution_count": 2,
   "metadata": {},
   "outputs": [],
   "source": [
    "file_headers = [\"/media/user1/Data 2000/soft_robotics_experiments/training_data/round_1/module1_fullext1\",\n",
    "                \"/media/user1/Data 2000/soft_robotics_experiments/training_data/round_1/module1_fullext2\",\n",
    "                \"/media/user1/Data 2000/soft_robotics_experiments/training_data/round_1/module1_fullext3\",\n",
    "                \"/media/user1/Data 2000/soft_robotics_experiments/training_data/round_1/module1_fullext4\",\n",
    "                \"/media/user1/Data 2000/soft_robotics_experiments/training_data/round_1/module2_fullext1\",\n",
    "                \"/media/user1/Data 2000/soft_robotics_experiments/training_data/round_1/module2_fullext2\",\n",
    "                \"/media/user1/Data 2000/soft_robotics_experiments/training_data/round_1/module2_fullext3\",\n",
    "                \"/media/user1/Data 2000/soft_robotics_experiments/training_data/round_1/module2_fullext4\",\n",
    "                \"/media/user1/Data 2000/soft_robotics_experiments/training_data/round_1/s_curve1\",\n",
    "                \"/media/user1/Data 2000/soft_robotics_experiments/training_data/round_1/s_curve2\"]\n",
    "\n",
    "CSV_SFX = \".csv\"\n",
    "MARKERS_SFX = \"_markers\"\n",
    "POLY_SFX = \"_poly\"\n",
    "M10Y = \"M10Y\""
   ]
  },
  {
   "cell_type": "code",
   "execution_count": 3,
   "metadata": {},
   "outputs": [
    {
     "name": "stdout",
     "output_type": "stream",
     "text": [
      "(466, 4, 4)\n",
      "(466, 20)\n",
      "(466, 7)\n",
      "(491, 4, 4)\n",
      "(491, 20)\n",
      "(491, 7)\n",
      "(496, 4, 4)\n",
      "(496, 20)\n",
      "(496, 7)\n",
      "(603, 4, 4)\n",
      "(603, 20)\n",
      "(603, 7)\n",
      "(585, 4, 4)\n",
      "(585, 20)\n",
      "(585, 7)\n",
      "(511, 4, 4)\n",
      "(511, 20)\n",
      "(511, 7)\n",
      "(425, 4, 4)\n",
      "(425, 20)\n",
      "(425, 7)\n",
      "(442, 4, 4)\n",
      "(442, 20)\n",
      "(442, 7)\n",
      "(269, 4, 4)\n",
      "(269, 20)\n",
      "(269, 7)\n",
      "(693, 4, 4)\n",
      "(693, 20)\n",
      "(693, 7)\n",
      "(234, 4, 4)\n",
      "(234, 20)\n",
      "(234, 7)\n",
      "(724, 4, 4)\n",
      "(724, 20)\n",
      "(724, 7)\n"
     ]
    }
   ],
   "source": [
    "x_list = []\n",
    "y_list = []\n",
    "\n",
    "# The bigger the time step, the more the history. \n",
    "TIME_STEPS = 16\n",
    "SAMPLE_STEPS = 4\n",
    "\n",
    "x_labels = [\"M1-PL\", \"M1-PR\", \"M2-PL\", \"M2-PR\"]\n",
    "\n",
    "# NOTE: Uncomment if using polynomial\n",
    "poly_labels = [\"a0\", \"a1\", \"a2\", \"a3\", \"a4\", \"a5\", \"d\"]\n",
    "\n",
    "# NOTE: Uncomment if using markers\n",
    "marker_labels = [\"M1X\", \"M1Y\", \"M2X\", \"M2Y\", \"M3X\", \"M3Y\",\n",
    "            \"M4X\", \"M4Y\", \"M5X\", \"M5Y\", \"M6X\", \"M6Y\",\n",
    "            \"M7X\", \"M7Y\", \"M8X\", \"M8Y\", \"M9X\", \"M9Y\",\n",
    "            \"M10X\", \"M10Y\"]\n",
    "\n",
    "y_labels = marker_labels\n",
    "\n",
    "INPUT_DIM = len(x_labels)\n",
    "OUTPUT_DIM = len(y_labels)\n",
    "\n",
    "def get_index_groups(df):\n",
    "    return df.groupby(df.index.to_series().diff().ne(1).cumsum()).groups\n",
    "\n",
    "def expand_time_steps(data, time_steps, sample_steps):\n",
    "    entries = data.shape[0] - time_steps + 1\n",
    "    rows = int(time_steps / sample_steps)\n",
    "    cols = data.shape[1]\n",
    "    new_arr = np.zeros((entries, rows, cols))\n",
    "    for i in range(data.shape[0] - time_steps + 1):\n",
    "        full_arr = data.iloc[i:i + time_steps].to_numpy()\n",
    "        new_arr[i, :, :] = full_arr[sample_steps - 1::sample_steps]\n",
    "    return new_arr\n",
    "\n",
    "def normalize_2d(data):\n",
    "    min_vals = []\n",
    "    max_vals = []\n",
    "    rows = data.shape[0]\n",
    "    cols = data.shape[1]\n",
    "    for c in range(cols): \n",
    "        mx = data[0][c]\n",
    "        mn = mx\n",
    "        for r in range(rows):\n",
    "            val = data[r][c]\n",
    "            if val > mx:\n",
    "                mx = val\n",
    "            if val < mn:\n",
    "                mn = val\n",
    "        min_vals.append(mn)\n",
    "        max_vals.append(mx)\n",
    "        for r in range(rows):\n",
    "            val = data[r][c]\n",
    "            data[r][c] = (val - mn) / (mx - mn)\n",
    "    return min_vals, max_vals\n",
    "    \n",
    "def normalize_3d(data):\n",
    "    min_vals = []\n",
    "    max_vals = []\n",
    "    entries = data.shape[0]\n",
    "    rows = data.shape[1]\n",
    "    cols = data.shape[2]\n",
    "    for c in range(cols):\n",
    "        mx = data[0][0][c]\n",
    "        mn = mx\n",
    "        for e in range(entries):\n",
    "            for r in range(rows):\n",
    "                val = data[e][r][c]\n",
    "                if val > mx:\n",
    "                    mx = val\n",
    "                if val < mn:\n",
    "                    mn = val\n",
    "        min_vals.append(mn)\n",
    "        max_vals.append(mx)\n",
    "        for e in range(entries):\n",
    "            for r in range(rows):\n",
    "                val = data[e][r][c]\n",
    "                data[e][r][c] = (val - mn) / (mx - mn)\n",
    "    return min_vals, max_vals\n",
    "\n",
    "for header in file_headers:\n",
    "    data_file = header + CSV_SFX\n",
    "    marker_file = header + MARKERS_SFX + CSV_SFX\n",
    "    poly_file = header + POLY_SFX + CSV_SFX\n",
    "    \n",
    "    data_df = pd.read_csv(data_file)\n",
    "    marker_df = pd.read_csv(marker_file)\n",
    "    poly_df = pd.read_csv(poly_file)\n",
    "    \n",
    "    # NOTE: Handle when the robot goes out of frame.\n",
    "    zero_indices = list(marker_df[marker_df[M10Y] == 0].index)\n",
    "    \n",
    "    data_df = data_df.drop(data_df.index[zero_indices])\n",
    "    marker_df = marker_df.drop(marker_df.index[zero_indices])\n",
    "    poly_df = poly_df.drop(poly_df.index[zero_indices])\n",
    "    \n",
    "    data_groups = get_index_groups(data_df)\n",
    "    marker_groups = get_index_groups(marker_df)\n",
    "    poly_groups = get_index_groups(poly_df)\n",
    "    \n",
    "    for dg in data_groups:\n",
    "        idx_list = data_groups[dg]\n",
    "        sub_data_df = data_df.loc[idx_list[0]:idx_list[-1]+1, x_labels]\n",
    "        sub_marker_df = marker_df.loc[idx_list[0]:idx_list[-1]+1, marker_labels]\n",
    "        sub_poly_df = poly_df.loc[idx_list[0]:idx_list[-1]+1, poly_labels]\n",
    "        \n",
    "        sub_data_df_exp = expand_time_steps(sub_data_df, TIME_STEPS, SAMPLE_STEPS)\n",
    "        sub_marker_df_exp = sub_marker_df[TIME_STEPS-1:]\n",
    "        sub_poly_df_exp = sub_poly_df[TIME_STEPS-1:]\n",
    "        \n",
    "        print(sub_data_df_exp.shape)\n",
    "        print(sub_marker_df_exp.shape)\n",
    "        print(sub_poly_df_exp.shape)\n",
    "        \n",
    "        x_list.append(sub_data_df_exp)\n",
    "        \n",
    "        if y_labels == poly_labels:\n",
    "            y_list.append(sub_poly_df_exp.to_numpy())\n",
    "        elif y_labels == marker_labels:\n",
    "            y_list.append(sub_marker_df_exp.to_numpy())\n",
    "        \n",
    "x_data = np.concatenate(x_list, axis=0)\n",
    "y_data = np.concatenate(y_list, axis=0)\n",
    "\n",
    "x_mins, x_maxes = normalize_3d(x_data)\n",
    "y_mins, y_maxes = normalize_2d(y_data)\n",
    "\n",
    "x_data_shuffled, y_data_shuffled = sklearn.utils.shuffle(x_data, y_data)\n",
    "\n",
    "data_length = len(x_data_shuffled)\n",
    "split_percent = 0.8\n",
    "train_test_split = int(data_length * split_percent)\n",
    "\n",
    "x_train = x_data_shuffled[:train_test_split]\n",
    "y_train = y_data_shuffled[:train_test_split]\n",
    "\n",
    "x_test = x_data_shuffled[train_test_split:]\n",
    "y_test = y_data_shuffled[train_test_split:]\n",
    "\n",
    "INPUT_TIME_STEPS = x_train.shape[1]\n"
   ]
  },
  {
   "cell_type": "code",
   "execution_count": 4,
   "metadata": {},
   "outputs": [
    {
     "name": "stdout",
     "output_type": "stream",
     "text": [
      "(4751, 4, 4)\n",
      "(4751, 20)\n",
      "(1188, 4, 4)\n",
      "(1188, 20)\n"
     ]
    }
   ],
   "source": [
    "# Have to take TIME_STEPS off the top of *every* run. Not just them all together.\n",
    "print(x_train.shape)\n",
    "print(y_train.shape)\n",
    "print(x_test.shape)\n",
    "print(y_test.shape)"
   ]
  },
  {
   "cell_type": "code",
   "execution_count": 7,
   "metadata": {},
   "outputs": [
    {
     "name": "stdout",
     "output_type": "stream",
     "text": [
      "Model: \"sequential_1\"\n",
      "_________________________________________________________________\n",
      "Layer (type)                 Output Shape              Param #   \n",
      "=================================================================\n",
      "lstm_1 (LSTM)                (None, 32)                4736      \n",
      "_________________________________________________________________\n",
      "dropout_4 (Dropout)          (None, 32)                0         \n",
      "_________________________________________________________________\n",
      "dense_4 (Dense)              (None, 32)                1056      \n",
      "_________________________________________________________________\n",
      "dropout_5 (Dropout)          (None, 32)                0         \n",
      "_________________________________________________________________\n",
      "dense_5 (Dense)              (None, 16)                528       \n",
      "_________________________________________________________________\n",
      "dropout_6 (Dropout)          (None, 16)                0         \n",
      "_________________________________________________________________\n",
      "dense_6 (Dense)              (None, 16)                272       \n",
      "_________________________________________________________________\n",
      "dropout_7 (Dropout)          (None, 16)                0         \n",
      "_________________________________________________________________\n",
      "dense_7 (Dense)              (None, 20)                340       \n",
      "=================================================================\n",
      "Total params: 6,932\n",
      "Trainable params: 6,932\n",
      "Non-trainable params: 0\n",
      "_________________________________________________________________\n"
     ]
    }
   ],
   "source": [
    "model = Sequential()\n",
    "#model.add(LSTM(64, input_shape=(INPUT_TIME_STEPS, INPUT_DIM), activation='relu', return_sequences=True))\n",
    "model.add(LSTM(32, input_shape=(INPUT_TIME_STEPS, INPUT_DIM), activation='relu'))\n",
    "model.add(Dropout(0.2))\n",
    "model.add(Dense(32, activation='relu'))\n",
    "model.add(Dropout(0.2))\n",
    "model.add(Dense(16, activation='relu'))\n",
    "model.add(Dropout(0.2))\n",
    "model.add(Dense(16, activation='relu'))\n",
    "model.add(Dropout(0.2))\n",
    "model.add(Dense(OUTPUT_DIM, activation='relu'))\n",
    "model.compile(optimizer='adam', loss='mean_squared_error', metrics=['accuracy'])\n",
    "model.summary()"
   ]
  },
  {
   "cell_type": "code",
   "execution_count": 8,
   "metadata": {
    "scrolled": true
   },
   "outputs": [
    {
     "name": "stdout",
     "output_type": "stream",
     "text": [
      "Epoch 1/100\n",
      "594/594 [==============================] - 1s 1ms/step - loss: 0.1189 - accuracy: 0.1586\n",
      "Epoch 2/100\n",
      "594/594 [==============================] - 1s 1ms/step - loss: 0.0505 - accuracy: 0.2708\n",
      "Epoch 3/100\n",
      "594/594 [==============================] - 1s 1ms/step - loss: 0.0269 - accuracy: 0.3041\n",
      "Epoch 4/100\n",
      "594/594 [==============================] - 1s 1ms/step - loss: 0.0176 - accuracy: 0.3889\n",
      "Epoch 5/100\n",
      "594/594 [==============================] - 1s 1ms/step - loss: 0.0155 - accuracy: 0.4263\n",
      "Epoch 6/100\n",
      "594/594 [==============================] - 1s 1ms/step - loss: 0.0144 - accuracy: 0.4699\n",
      "Epoch 7/100\n",
      "594/594 [==============================] - 1s 1ms/step - loss: 0.0139 - accuracy: 0.4547\n",
      "Epoch 8/100\n",
      "594/594 [==============================] - 1s 1ms/step - loss: 0.0137 - accuracy: 0.4645\n",
      "Epoch 9/100\n",
      "594/594 [==============================] - 1s 1ms/step - loss: 0.0132 - accuracy: 0.4678\n",
      "Epoch 10/100\n",
      "594/594 [==============================] - 1s 1ms/step - loss: 0.0130 - accuracy: 0.4850\n",
      "Epoch 11/100\n",
      "594/594 [==============================] - 1s 1ms/step - loss: 0.0125 - accuracy: 0.4981\n",
      "Epoch 12/100\n",
      "594/594 [==============================] - 1s 1ms/step - loss: 0.0118 - accuracy: 0.4697\n",
      "Epoch 13/100\n",
      "594/594 [==============================] - 1s 1ms/step - loss: 0.0115 - accuracy: 0.4325\n",
      "Epoch 14/100\n",
      "594/594 [==============================] - 1s 1ms/step - loss: 0.0113 - accuracy: 0.4288\n",
      "Epoch 15/100\n",
      "594/594 [==============================] - 1s 1ms/step - loss: 0.0110 - accuracy: 0.4431\n",
      "Epoch 16/100\n",
      "594/594 [==============================] - 1s 1ms/step - loss: 0.0109 - accuracy: 0.4482\n",
      "Epoch 17/100\n",
      "594/594 [==============================] - 1s 1ms/step - loss: 0.0107 - accuracy: 0.4520\n",
      "Epoch 18/100\n",
      "594/594 [==============================] - 1s 1ms/step - loss: 0.0111 - accuracy: 0.4337\n",
      "Epoch 19/100\n",
      "594/594 [==============================] - 1s 1ms/step - loss: 0.0107 - accuracy: 0.4473\n",
      "Epoch 20/100\n",
      "594/594 [==============================] - 1s 1ms/step - loss: 0.0107 - accuracy: 0.4630\n",
      "Epoch 21/100\n",
      "594/594 [==============================] - 1s 1ms/step - loss: 0.0106 - accuracy: 0.4570\n",
      "Epoch 22/100\n",
      "594/594 [==============================] - 1s 1ms/step - loss: 0.0101 - accuracy: 0.4446\n",
      "Epoch 23/100\n",
      "594/594 [==============================] - 1s 1ms/step - loss: 0.0105 - accuracy: 0.4489\n",
      "Epoch 24/100\n",
      "594/594 [==============================] - 1s 1ms/step - loss: 0.0101 - accuracy: 0.4613\n",
      "Epoch 25/100\n",
      "594/594 [==============================] - 1s 1ms/step - loss: 0.0099 - accuracy: 0.4632\n",
      "Epoch 26/100\n",
      "594/594 [==============================] - 1s 1ms/step - loss: 0.0098 - accuracy: 0.4779\n",
      "Epoch 27/100\n",
      "594/594 [==============================] - 1s 1ms/step - loss: 0.0100 - accuracy: 0.4687\n",
      "Epoch 28/100\n",
      "594/594 [==============================] - 1s 1ms/step - loss: 0.0101 - accuracy: 0.4827\n",
      "Epoch 29/100\n",
      "594/594 [==============================] - 1s 1ms/step - loss: 0.0100 - accuracy: 0.4705\n",
      "Epoch 30/100\n",
      "594/594 [==============================] - 1s 1ms/step - loss: 0.0098 - accuracy: 0.4803\n",
      "Epoch 31/100\n",
      "594/594 [==============================] - 1s 1ms/step - loss: 0.0097 - accuracy: 0.4622\n",
      "Epoch 32/100\n",
      "594/594 [==============================] - 1s 1ms/step - loss: 0.0099 - accuracy: 0.4773\n",
      "Epoch 33/100\n",
      "594/594 [==============================] - 1s 1ms/step - loss: 0.0104 - accuracy: 0.4583\n",
      "Epoch 34/100\n",
      "594/594 [==============================] - 1s 1ms/step - loss: 0.0093 - accuracy: 0.4728\n",
      "Epoch 35/100\n",
      "594/594 [==============================] - 1s 1ms/step - loss: 0.0097 - accuracy: 0.4843\n",
      "Epoch 36/100\n",
      "594/594 [==============================] - 1s 1ms/step - loss: 0.0103 - accuracy: 0.4656\n",
      "Epoch 37/100\n",
      "594/594 [==============================] - 1s 1ms/step - loss: 0.0096 - accuracy: 0.4590\n",
      "Epoch 38/100\n",
      "594/594 [==============================] - 1s 1ms/step - loss: 0.0096 - accuracy: 0.4835\n",
      "Epoch 39/100\n",
      "594/594 [==============================] - 1s 1ms/step - loss: 0.0095 - accuracy: 0.4813\n",
      "Epoch 40/100\n",
      "594/594 [==============================] - 1s 1ms/step - loss: 0.0097 - accuracy: 0.4661\n",
      "Epoch 41/100\n",
      "594/594 [==============================] - 1s 999us/step - loss: 0.0096 - accuracy: 0.5044\n",
      "Epoch 42/100\n",
      "594/594 [==============================] - 1s 1ms/step - loss: 0.0091 - accuracy: 0.4879\n",
      "Epoch 43/100\n",
      "594/594 [==============================] - 1s 1ms/step - loss: 0.0092 - accuracy: 0.4698\n",
      "Epoch 44/100\n",
      "594/594 [==============================] - 1s 1ms/step - loss: 0.0092 - accuracy: 0.4703\n",
      "Epoch 45/100\n",
      "594/594 [==============================] - 1s 1ms/step - loss: 0.0091 - accuracy: 0.4869\n",
      "Epoch 46/100\n",
      "594/594 [==============================] - 1s 1ms/step - loss: 0.0087 - accuracy: 0.4788\n",
      "Epoch 47/100\n",
      "594/594 [==============================] - 1s 1ms/step - loss: 0.0090 - accuracy: 0.4926\n",
      "Epoch 48/100\n",
      "594/594 [==============================] - 1s 999us/step - loss: 0.0086 - accuracy: 0.4709\n",
      "Epoch 49/100\n",
      "594/594 [==============================] - 1s 1ms/step - loss: 0.0096 - accuracy: 0.4943\n",
      "Epoch 50/100\n",
      "594/594 [==============================] - 1s 1ms/step - loss: 0.0090 - accuracy: 0.4903\n",
      "Epoch 51/100\n",
      "594/594 [==============================] - 1s 993us/step - loss: 0.0089 - accuracy: 0.5014\n",
      "Epoch 52/100\n",
      "594/594 [==============================] - 1s 999us/step - loss: 0.0088 - accuracy: 0.4881\n",
      "Epoch 53/100\n",
      "594/594 [==============================] - 1s 1ms/step - loss: 0.0087 - accuracy: 0.4785\n",
      "Epoch 54/100\n",
      "594/594 [==============================] - 1s 1ms/step - loss: 0.0088 - accuracy: 0.4835\n",
      "Epoch 55/100\n",
      "594/594 [==============================] - 1s 1ms/step - loss: 0.0087 - accuracy: 0.4887\n",
      "Epoch 56/100\n",
      "594/594 [==============================] - 1s 985us/step - loss: 0.0087 - accuracy: 0.4901\n",
      "Epoch 57/100\n",
      "594/594 [==============================] - 1s 978us/step - loss: 0.0084 - accuracy: 0.4866\n",
      "Epoch 58/100\n",
      "594/594 [==============================] - 1s 984us/step - loss: 0.0085 - accuracy: 0.4976\n",
      "Epoch 59/100\n",
      "594/594 [==============================] - 1s 982us/step - loss: 0.0091 - accuracy: 0.4959\n",
      "Epoch 60/100\n",
      "594/594 [==============================] - 1s 986us/step - loss: 0.0085 - accuracy: 0.4984\n",
      "Epoch 61/100\n",
      "594/594 [==============================] - 1s 988us/step - loss: 0.0091 - accuracy: 0.4976\n",
      "Epoch 62/100\n",
      "594/594 [==============================] - 1s 1ms/step - loss: 0.0089 - accuracy: 0.4843\n",
      "Epoch 63/100\n",
      "594/594 [==============================] - 1s 1ms/step - loss: 0.0089 - accuracy: 0.4948\n",
      "Epoch 64/100\n",
      "594/594 [==============================] - 1s 1ms/step - loss: 0.0086 - accuracy: 0.4917\n",
      "Epoch 65/100\n",
      "594/594 [==============================] - 1s 985us/step - loss: 0.0083 - accuracy: 0.4992\n",
      "Epoch 66/100\n",
      "594/594 [==============================] - 1s 986us/step - loss: 0.0081 - accuracy: 0.5048\n",
      "Epoch 67/100\n",
      "594/594 [==============================] - 1s 983us/step - loss: 0.0082 - accuracy: 0.4885\n",
      "Epoch 68/100\n",
      "594/594 [==============================] - 1s 991us/step - loss: 0.0084 - accuracy: 0.4931\n",
      "Epoch 69/100\n",
      "594/594 [==============================] - 1s 985us/step - loss: 0.0082 - accuracy: 0.5009\n",
      "Epoch 70/100\n",
      "594/594 [==============================] - 1s 978us/step - loss: 0.0089 - accuracy: 0.5039\n",
      "Epoch 71/100\n",
      "594/594 [==============================] - 1s 984us/step - loss: 0.0087 - accuracy: 0.4835\n",
      "Epoch 72/100\n",
      "594/594 [==============================] - 1s 976us/step - loss: 0.0084 - accuracy: 0.5147\n",
      "Epoch 73/100\n",
      "594/594 [==============================] - 1s 977us/step - loss: 0.0084 - accuracy: 0.5056\n",
      "Epoch 74/100\n",
      "594/594 [==============================] - 1s 1ms/step - loss: 0.0081 - accuracy: 0.5150\n",
      "Epoch 75/100\n",
      "594/594 [==============================] - 1s 1ms/step - loss: 0.0085 - accuracy: 0.5048\n",
      "Epoch 76/100\n",
      "594/594 [==============================] - 1s 983us/step - loss: 0.0085 - accuracy: 0.4912\n",
      "Epoch 77/100\n",
      "594/594 [==============================] - 1s 1ms/step - loss: 0.0083 - accuracy: 0.4920\n",
      "Epoch 78/100\n",
      "594/594 [==============================] - 1s 977us/step - loss: 0.0087 - accuracy: 0.4968\n",
      "Epoch 79/100\n",
      "594/594 [==============================] - 1s 999us/step - loss: 0.0086 - accuracy: 0.4991\n",
      "Epoch 80/100\n",
      "594/594 [==============================] - 1s 1ms/step - loss: 0.0083 - accuracy: 0.4992\n"
     ]
    },
    {
     "name": "stdout",
     "output_type": "stream",
     "text": [
      "Epoch 81/100\n",
      "594/594 [==============================] - 1s 1ms/step - loss: 0.0082 - accuracy: 0.5106\n",
      "Epoch 82/100\n",
      "594/594 [==============================] - 1s 1ms/step - loss: 0.0082 - accuracy: 0.4915\n",
      "Epoch 83/100\n",
      "594/594 [==============================] - 1s 1ms/step - loss: 0.0086 - accuracy: 0.5168\n",
      "Epoch 84/100\n",
      "594/594 [==============================] - 1s 1ms/step - loss: 0.0080 - accuracy: 0.5004\n",
      "Epoch 85/100\n",
      "594/594 [==============================] - 1s 1ms/step - loss: 0.0084 - accuracy: 0.5023\n",
      "Epoch 86/100\n",
      "594/594 [==============================] - 1s 1ms/step - loss: 0.0082 - accuracy: 0.5091\n",
      "Epoch 87/100\n",
      "594/594 [==============================] - 1s 2ms/step - loss: 0.0084 - accuracy: 0.4921\n",
      "Epoch 88/100\n",
      "594/594 [==============================] - 1s 1ms/step - loss: 0.0080 - accuracy: 0.4871\n",
      "Epoch 89/100\n",
      "594/594 [==============================] - 1s 1ms/step - loss: 0.0076 - accuracy: 0.5088\n",
      "Epoch 90/100\n",
      "594/594 [==============================] - 1s 950us/step - loss: 0.0084 - accuracy: 0.4996\n",
      "Epoch 91/100\n",
      "594/594 [==============================] - 1s 951us/step - loss: 0.0085 - accuracy: 0.5098\n",
      "Epoch 92/100\n",
      "594/594 [==============================] - 1s 940us/step - loss: 0.0080 - accuracy: 0.4997\n",
      "Epoch 93/100\n",
      "594/594 [==============================] - 1s 946us/step - loss: 0.0079 - accuracy: 0.5125\n",
      "Epoch 94/100\n",
      "594/594 [==============================] - 1s 984us/step - loss: 0.0078 - accuracy: 0.5147\n",
      "Epoch 95/100\n",
      "594/594 [==============================] - 1s 948us/step - loss: 0.0077 - accuracy: 0.5092\n",
      "Epoch 96/100\n",
      "594/594 [==============================] - 1s 961us/step - loss: 0.0077 - accuracy: 0.5111\n",
      "Epoch 97/100\n",
      "594/594 [==============================] - 1s 974us/step - loss: 0.0078 - accuracy: 0.5232\n",
      "Epoch 98/100\n",
      "594/594 [==============================] - 1s 955us/step - loss: 0.0100 - accuracy: 0.5179\n",
      "Epoch 99/100\n",
      "594/594 [==============================] - 1s 946us/step - loss: 0.0078 - accuracy: 0.5121\n",
      "Epoch 100/100\n",
      "594/594 [==============================] - 1s 940us/step - loss: 0.0076 - accuracy: 0.5019\n"
     ]
    }
   ],
   "source": [
    "BATCH_SIZE = 8\n",
    "EPOCHS = 100\n",
    "history = model.fit(x_train, y_train, batch_size=BATCH_SIZE, epochs=EPOCHS)"
   ]
  },
  {
   "cell_type": "code",
   "execution_count": 7,
   "metadata": {},
   "outputs": [
    {
     "name": "stdout",
     "output_type": "stream",
     "text": [
      "38/38 [==============================] - 0s 627us/step - loss: 0.0023 - accuracy: 0.6473\n"
     ]
    }
   ],
   "source": [
    "loss, accuracy = model.evaluate(x_test, y_test)"
   ]
  },
  {
   "cell_type": "code",
   "execution_count": 18,
   "metadata": {},
   "outputs": [],
   "source": [
    "pickle.dump(history.history[\"loss\"], open(\"objects/rnn_loss.p\", \"wb\"))"
   ]
  },
  {
   "cell_type": "code",
   "execution_count": 8,
   "metadata": {},
   "outputs": [],
   "source": [
    "def rescale_output(y):\n",
    "    ret = []\n",
    "    for i in range(len(y)):\n",
    "        max_val = y_maxes[i]\n",
    "        min_val = y_mins[i]\n",
    "        val = y[i]\n",
    "        rescaled_val = (val * (max_val - min_val)) + min_val\n",
    "        ret.append(rescaled_val)\n",
    "    return np.array(ret)"
   ]
  },
  {
   "cell_type": "code",
   "execution_count": 35,
   "metadata": {},
   "outputs": [
    {
     "name": "stderr",
     "output_type": "stream",
     "text": [
      "Widget Javascript not detected.  It may not be installed or enabled properly.\n"
     ]
    },
    {
     "data": {
      "application/vnd.jupyter.widget-view+json": {
       "model_id": "df5aff17247140b899cbcae3a3b1f86e"
      }
     },
     "metadata": {},
     "output_type": "display_data"
    },
    {
     "data": {
      "text/plain": [
       "<function __main__.evaluate_poly(idx=(0, 1187, 1))>"
      ]
     },
     "execution_count": 35,
     "metadata": {},
     "output_type": "execute_result"
    }
   ],
   "source": [
    "num_tests = len(x_test)\n",
    "def evaluate_poly(idx=(0,num_tests-1,1)):\n",
    "    x_select = np.expand_dims(x_test[idx], axis=0)\n",
    "    #x_select = np.array(x_test.loc[index, :]).reshape(1, -1)\n",
    "    y_pred = model.predict(x_select)\n",
    "    y_pred = rescale_output(y_pred[0])\n",
    "    a_pred = np.flip(y_pred[:-1])\n",
    "    d_pred = y_pred[-1]\n",
    "    \n",
    "    y_select = y_test[idx]\n",
    "    y_select = rescale_output(y_select)\n",
    "    a_select = np.flip(y_select[:-1])\n",
    "    d_select = y_select[-1]\n",
    "    \n",
    "    print(d_pred, d_select)\n",
    "    \n",
    "    poly_pred = np.poly1d(a_pred)\n",
    "    poly_select = np.poly1d(a_select)\n",
    "    \n",
    "    yp = np.linspace(0, d_pred)\n",
    "    xp = poly_pred(yp)\n",
    "    \n",
    "    ys = np.linspace(0, d_select)\n",
    "    xs = poly_select(ys)\n",
    "    \n",
    "    plt.plot(xs, ys, label=\"actual\")\n",
    "    plt.plot(xp, yp, label=\"predicted\")\n",
    "    plt.xlim([-20,20])\n",
    "    plt.ylim([-1,39])\n",
    "    plt.xlabel(\"x (cm)\")\n",
    "    plt.ylabel(\"y (cm)\")\n",
    "    plt.legend()\n",
    "    plt.title(\"Predicted Shape vs. Actual Shape\")\n",
    "    plt.show()\n",
    "    \n",
    "\n",
    "interact(evaluate_poly)"
   ]
  },
  {
   "cell_type": "code",
   "execution_count": 9,
   "metadata": {},
   "outputs": [
    {
     "name": "stderr",
     "output_type": "stream",
     "text": [
      "Widget Javascript not detected.  It may not be installed or enabled properly.\n"
     ]
    },
    {
     "data": {
      "application/vnd.jupyter.widget-view+json": {
       "model_id": "a4aa91018ca142b986c0218a108d2ae2"
      }
     },
     "metadata": {},
     "output_type": "display_data"
    },
    {
     "data": {
      "text/plain": [
       "<function __main__.evaluate_markers(idx=(0, 1187, 1))>"
      ]
     },
     "execution_count": 9,
     "metadata": {},
     "output_type": "execute_result"
    }
   ],
   "source": [
    "num_tests = len(x_test)\n",
    "def evaluate_markers(idx=(0,num_tests-1,1)):\n",
    "    x_select = np.expand_dims(x_test[idx], axis=0)\n",
    "    y_pred = model.predict(x_select)\n",
    "    y_pred = rescale_output(y_pred[0])\n",
    "    \n",
    "    y_select = y_test[idx]\n",
    "    y_select = rescale_output(y_select)\n",
    "    \n",
    "    num_markers = int(len(y_pred) / 2)\n",
    "    \n",
    "    x_coord_select = [0]\n",
    "    y_coord_select = [0]\n",
    "    x_coord_pred = [0]\n",
    "    y_coord_pred = [0]\n",
    "    \n",
    "    for i in range(num_markers):\n",
    "        x_idx = i * 2\n",
    "        y_idx = (i * 2) + 1\n",
    "        x_coord_select.append(y_select[x_idx])\n",
    "        y_coord_select.append(y_select[y_idx])\n",
    "        x_coord_pred.append(y_pred[x_idx])\n",
    "        y_coord_pred.append(y_pred[y_idx])\n",
    "    \n",
    "    plt.plot(x_coord_select, y_coord_select, \"-o\", label=\"actual\")\n",
    "    plt.plot(x_coord_pred, y_coord_pred, \"-o\", label=\"predicted\")\n",
    "    plt.xlim([-20,20])\n",
    "    plt.ylim([-1,39])\n",
    "    plt.xlabel(\"x (cm)\")\n",
    "    plt.ylabel(\"y (cm)\")\n",
    "    plt.legend()\n",
    "    plt.title(\"Predicted Markers vs. Actual Markers\")\n",
    "    plt.show()\n",
    "        \n",
    "        \n",
    "interact(evaluate_markers)"
   ]
  },
  {
   "cell_type": "code",
   "execution_count": 145,
   "metadata": {},
   "outputs": [
    {
     "data": {
      "text/plain": [
       "array([4, 8])"
      ]
     },
     "execution_count": 145,
     "metadata": {},
     "output_type": "execute_result"
    }
   ],
   "source": [
    "a = np.array([1,2,3,4,5,6,7,8])\n",
    "a[3::4]"
   ]
  },
  {
   "cell_type": "code",
   "execution_count": 173,
   "metadata": {},
   "outputs": [
    {
     "name": "stdout",
     "output_type": "stream",
     "text": [
      "INFO:tensorflow:Assets written to: ./models/first_rnn/assets\n"
     ]
    }
   ],
   "source": [
    "model.save(\"./models/first_rnn\")"
   ]
  },
  {
   "cell_type": "code",
   "execution_count": null,
   "metadata": {},
   "outputs": [],
   "source": []
  },
  {
   "cell_type": "code",
   "execution_count": null,
   "metadata": {},
   "outputs": [],
   "source": []
  },
  {
   "cell_type": "code",
   "execution_count": null,
   "metadata": {},
   "outputs": [],
   "source": []
  },
  {
   "cell_type": "code",
   "execution_count": null,
   "metadata": {},
   "outputs": [],
   "source": []
  },
  {
   "cell_type": "code",
   "execution_count": null,
   "metadata": {},
   "outputs": [],
   "source": []
  },
  {
   "cell_type": "code",
   "execution_count": null,
   "metadata": {},
   "outputs": [],
   "source": []
  },
  {
   "cell_type": "code",
   "execution_count": null,
   "metadata": {},
   "outputs": [],
   "source": []
  },
  {
   "cell_type": "code",
   "execution_count": null,
   "metadata": {},
   "outputs": [],
   "source": []
  },
  {
   "cell_type": "code",
   "execution_count": null,
   "metadata": {},
   "outputs": [],
   "source": []
  },
  {
   "cell_type": "code",
   "execution_count": null,
   "metadata": {},
   "outputs": [],
   "source": []
  }
 ],
 "metadata": {
  "kernelspec": {
   "display_name": "Python 3",
   "language": "python",
   "name": "python3"
  },
  "language_info": {
   "codemirror_mode": {
    "name": "ipython",
    "version": 3
   },
   "file_extension": ".py",
   "mimetype": "text/x-python",
   "name": "python",
   "nbconvert_exporter": "python",
   "pygments_lexer": "ipython3",
   "version": "3.8.10"
  }
 },
 "nbformat": 4,
 "nbformat_minor": 4
}
